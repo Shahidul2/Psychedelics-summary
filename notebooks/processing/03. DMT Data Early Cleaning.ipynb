{
 "cells": [
  {
   "cell_type": "code",
   "execution_count": null,
   "id": "2e41799a",
   "metadata": {},
   "outputs": [
    {
     "data": {
      "text/html": [
       "<div>\n",
       "<style scoped>\n",
       "    .dataframe tbody tr th:only-of-type {\n",
       "        vertical-align: middle;\n",
       "    }\n",
       "\n",
       "    .dataframe tbody tr th {\n",
       "        vertical-align: top;\n",
       "    }\n",
       "\n",
       "    .dataframe thead th {\n",
       "        text-align: right;\n",
       "    }\n",
       "</style>\n",
       "<table border=\"1\" class=\"dataframe\">\n",
       "  <thead>\n",
       "    <tr style=\"text-align: right;\">\n",
       "      <th></th>\n",
       "      <th>title</th>\n",
       "      <th>substance</th>\n",
       "      <th>age</th>\n",
       "      <th>weight</th>\n",
       "      <th>gender</th>\n",
       "      <th>report_text</th>\n",
       "    </tr>\n",
       "  </thead>\n",
       "  <tbody>\n",
       "    <tr>\n",
       "      <th>0</th>\n",
       "      <td>First Experience of DMT</td>\n",
       "      <td>DMT</td>\n",
       "      <td>Age at time of experience: 27</td>\n",
       "      <td>NaN</td>\n",
       "      <td>Female</td>\n",
       "      <td>DOSE:T+ 0:000.5 hitsoralLSDT+ 0:453 hitssmoked...</td>\n",
       "    </tr>\n",
       "    <tr>\n",
       "      <th>1</th>\n",
       "      <td>Welcome to the Cube World</td>\n",
       "      <td>DMT</td>\n",
       "      <td>Age at time of experience: 18</td>\n",
       "      <td>80 kg</td>\n",
       "      <td>Not Specified</td>\n",
       "      <td>DOSE:1 hitsmokedDMT(powder / crystals)BODY WEI...</td>\n",
       "    </tr>\n",
       "    <tr>\n",
       "      <th>2</th>\n",
       "      <td>At the Threshold of Unimaginable Bliss</td>\n",
       "      <td>DMT</td>\n",
       "      <td>Age at time of experience: 22</td>\n",
       "      <td>NaN</td>\n",
       "      <td>Female</td>\n",
       "      <td>DOSE:repeatedsmokedCannabisrepeatedoralAlcohol...</td>\n",
       "    </tr>\n",
       "    <tr>\n",
       "      <th>3</th>\n",
       "      <td>What Is Time?</td>\n",
       "      <td>DMT</td>\n",
       "      <td>Age at time of experience: Not Given</td>\n",
       "      <td>230 lb</td>\n",
       "      <td>Male</td>\n",
       "      <td>DOSE:2 hitssmokedDMT(freebase)repeatedsmokedTo...</td>\n",
       "    </tr>\n",
       "    <tr>\n",
       "      <th>4</th>\n",
       "      <td>Carrier Wave World of Forms, Beings of Light</td>\n",
       "      <td>DMT</td>\n",
       "      <td>Age at time of experience: 21</td>\n",
       "      <td>145 lb</td>\n",
       "      <td>Male</td>\n",
       "      <td>DOSE:34 - 40 mgvaporizedDMT(powder / crystals)...</td>\n",
       "    </tr>\n",
       "  </tbody>\n",
       "</table>\n",
       "</div>"
      ],
      "text/plain": [
       "                                          title substance  \\\n",
       "0                       First Experience of DMT       DMT   \n",
       "1                     Welcome to the Cube World       DMT   \n",
       "2        At the Threshold of Unimaginable Bliss       DMT   \n",
       "3                                 What Is Time?       DMT   \n",
       "4  Carrier Wave World of Forms, Beings of Light       DMT   \n",
       "\n",
       "                                    age  weight         gender  \\\n",
       "0         Age at time of experience: 27     NaN         Female   \n",
       "1         Age at time of experience: 18   80 kg  Not Specified   \n",
       "2         Age at time of experience: 22     NaN         Female   \n",
       "3  Age at time of experience: Not Given  230 lb           Male   \n",
       "4         Age at time of experience: 21  145 lb           Male   \n",
       "\n",
       "                                         report_text  \n",
       "0  DOSE:T+ 0:000.5 hitsoralLSDT+ 0:453 hitssmoked...  \n",
       "1  DOSE:1 hitsmokedDMT(powder / crystals)BODY WEI...  \n",
       "2  DOSE:repeatedsmokedCannabisrepeatedoralAlcohol...  \n",
       "3  DOSE:2 hitssmokedDMT(freebase)repeatedsmokedTo...  \n",
       "4  DOSE:34 - 40 mgvaporizedDMT(powder / crystals)...  "
      ]
     },
     "execution_count": 1,
     "metadata": {},
     "output_type": "execute_result"
    }
   ],
   "source": [
    "import numpy as np\n",
    "import pandas as pd\n",
    "\n",
    "df = pd.read_csv(r\"dmt_reports.csv\")\n",
    "df.head()"
   ]
  },
  {
   "cell_type": "code",
   "execution_count": 2,
   "id": "8d5f383f",
   "metadata": {},
   "outputs": [],
   "source": [
    "import re\n",
    "import contractions\n",
    "\n",
    "def clean_psychedelic_report(text):\n",
    "    \"\"\"Initial structure cleanup: remove BODY WEIGHT... and trailing metadata\"\"\"\n",
    "    if pd.isna(text):\n",
    "        return \"\"\n",
    "\n",
    "    text = text.replace('\\xa0', ' ').replace('\\n', ' ').strip()\n",
    "\n",
    "    # Remove everything before BODY WEIGHT\n",
    "    text = re.sub(r\"^.*?BODY WEIGHT:\\s*\\d+\\s*\\w+\\s*\", \"\", text)\n",
    "\n",
    "    # Remove everything after Exp Year\n",
    "    end_match = re.search(r\"Exp Year: \\d{4}ExpID:\", text)\n",
    "    if end_match:\n",
    "        text = text[:end_match.start()]\n",
    "\n",
    "    return re.sub(r'\\s{2,}', ' ', text).strip()\n",
    "\n",
    "def remove_duplicates(text):\n",
    "    \"\"\"Remove repeated sentences\"\"\"\n",
    "    sentences = text.split('. ')\n",
    "    seen = set()\n",
    "    unique_sentences = []\n",
    "    for s in sentences:\n",
    "        s_clean = s.strip()\n",
    "        if s_clean and s_clean not in seen:\n",
    "            seen.add(s_clean)\n",
    "            unique_sentences.append(s_clean)\n",
    "    return '. '.join(unique_sentences)\n",
    "\n",
    "def final_nlp_clean(text):\n",
    "    \"\"\"Final normalization and cleaning for NLP\"\"\"\n",
    "    if pd.isna(text):\n",
    "        return \"\"\n",
    "\n",
    "    # Contractions\n",
    "    text = contractions.fix(text)\n",
    "\n",
    "    # Remove parentheticals\n",
    "    text = re.sub(r'\\([^)]*\\)', '', text)\n",
    "    text = re.sub(r'\\[[^\\]]*\\]', '', text)\n",
    "    \n",
    "    # Replace em/en dash, ellipsis, and double hyphen with comma\n",
    "    text = text.replace('—', ',').replace('–', ',').replace('…', ',').replace('--', ',')\n",
    "\n",
    "    # Standardize repeated punctuation\n",
    "    text = re.sub(r'\\.{2,}', '.', text)\n",
    "    text = re.sub(r'!{2,}', '!', text)\n",
    "    text = re.sub(r'\\?{2,}', '?', text)\n",
    "\n",
    "    # Add spacing after punctuation\n",
    "    text = re.sub(r'(?<=[.!?])(?=\\S)', r' ', text)\n",
    "\n",
    "    # Separate camelCase\n",
    "    text = re.sub(r'([a-z])([A-Z])', r'\\1 \\2', text)\n",
    "\n",
    "    # Collapse spaces and lowercase\n",
    "    text = re.sub(r'\\s{2,}', ' ', text).lower()\n",
    "\n",
    "    return text.strip()"
   ]
  },
  {
   "cell_type": "code",
   "execution_count": 3,
   "id": "29587086",
   "metadata": {},
   "outputs": [],
   "source": [
    "df['report_text'] = df['report_text'].apply(clean_psychedelic_report)\n",
    "df['report_text'] = df['report_text'].apply(remove_duplicates)\n",
    "df['report_text'] = df['report_text'].apply(final_nlp_clean)"
   ]
  },
  {
   "cell_type": "code",
   "execution_count": 4,
   "id": "af6fa445",
   "metadata": {},
   "outputs": [],
   "source": [
    "def extract_age(text):\n",
    "    \"\"\"Extract age or return 'Not Given'.\"\"\"\n",
    "    if pd.isna(text):\n",
    "        return \"Not Given\"\n",
    "    match = re.search(r'Age at time of experience:\\s*(\\d+|Not Given)', text, re.IGNORECASE)\n",
    "    return match.group(1) if match else \"Not Given\"\n",
    "\n",
    "def extract_weight(text):\n",
    "    \"\"\"Extract weight in kg from lb, kg, or stone.\"\"\"\n",
    "    if pd.isna(text):\n",
    "        return np.nan\n",
    "    match = re.search(r'(\\d+)\\s*(lb|kg|st)', text.lower())\n",
    "    if match:\n",
    "        val, unit = int(match.group(1)), match.group(2)\n",
    "        if unit == 'kg':\n",
    "            return val\n",
    "        elif unit == 'lb':\n",
    "            return round(val * 0.453592)  # convert lb to kg\n",
    "        elif unit == 'st':\n",
    "            return round(val * 6.35029)   # convert stone to kg\n",
    "    return np.nan\n",
    "\n",
    "# Apply to columns\n",
    "df['age'] = df['age'].apply(extract_age)\n",
    "df['weight'] = df['weight'].apply(extract_weight)"
   ]
  },
  {
   "cell_type": "code",
   "execution_count": 5,
   "id": "e2e68d80",
   "metadata": {},
   "outputs": [
    {
     "data": {
      "text/html": [
       "<div>\n",
       "<style scoped>\n",
       "    .dataframe tbody tr th:only-of-type {\n",
       "        vertical-align: middle;\n",
       "    }\n",
       "\n",
       "    .dataframe tbody tr th {\n",
       "        vertical-align: top;\n",
       "    }\n",
       "\n",
       "    .dataframe thead th {\n",
       "        text-align: right;\n",
       "    }\n",
       "</style>\n",
       "<table border=\"1\" class=\"dataframe\">\n",
       "  <thead>\n",
       "    <tr style=\"text-align: right;\">\n",
       "      <th></th>\n",
       "      <th>title</th>\n",
       "      <th>substance</th>\n",
       "      <th>age</th>\n",
       "      <th>weight</th>\n",
       "      <th>gender</th>\n",
       "      <th>report_text</th>\n",
       "    </tr>\n",
       "  </thead>\n",
       "  <tbody>\n",
       "    <tr>\n",
       "      <th>1663</th>\n",
       "      <td>Crystal Creations</td>\n",
       "      <td>DMT</td>\n",
       "      <td>Not Given</td>\n",
       "      <td>66.0</td>\n",
       "      <td>Male</td>\n",
       "      <td>much to say. so much to say and yet no words f...</td>\n",
       "    </tr>\n",
       "    <tr>\n",
       "      <th>1664</th>\n",
       "      <td>Galactic Movements</td>\n",
       "      <td>DMT</td>\n",
       "      <td>Not Given</td>\n",
       "      <td>73.0</td>\n",
       "      <td>Male</td>\n",
       "      <td>has been a troublesome substance for me. it ca...</td>\n",
       "    </tr>\n",
       "    <tr>\n",
       "      <th>1665</th>\n",
       "      <td>Orange Gave Way to Utter Darkness</td>\n",
       "      <td>DMT</td>\n",
       "      <td>20</td>\n",
       "      <td>79.0</td>\n",
       "      <td>Male</td>\n",
       "      <td>started the night by going out to eat with my ...</td>\n",
       "    </tr>\n",
       "    <tr>\n",
       "      <th>1666</th>\n",
       "      <td>Visiting Hyperspace - Light Journey</td>\n",
       "      <td>DMT</td>\n",
       "      <td>35</td>\n",
       "      <td>91.0</td>\n",
       "      <td>Male</td>\n",
       "      <td>is probably the most mysterious drug known to ...</td>\n",
       "    </tr>\n",
       "    <tr>\n",
       "      <th>1667</th>\n",
       "      <td>Inhabitants of Another Dimension</td>\n",
       "      <td>DMT</td>\n",
       "      <td>18</td>\n",
       "      <td>86.0</td>\n",
       "      <td>Male</td>\n",
       "      <td>the middle of the woods in my area is a point ...</td>\n",
       "    </tr>\n",
       "  </tbody>\n",
       "</table>\n",
       "</div>"
      ],
      "text/plain": [
       "                                    title substance        age  weight gender  \\\n",
       "1663                    Crystal Creations       DMT  Not Given    66.0   Male   \n",
       "1664                   Galactic Movements       DMT  Not Given    73.0   Male   \n",
       "1665    Orange Gave Way to Utter Darkness       DMT         20    79.0   Male   \n",
       "1666  Visiting Hyperspace - Light Journey       DMT         35    91.0   Male   \n",
       "1667     Inhabitants of Another Dimension       DMT         18    86.0   Male   \n",
       "\n",
       "                                            report_text  \n",
       "1663  much to say. so much to say and yet no words f...  \n",
       "1664  has been a troublesome substance for me. it ca...  \n",
       "1665  started the night by going out to eat with my ...  \n",
       "1666  is probably the most mysterious drug known to ...  \n",
       "1667  the middle of the woods in my area is a point ...  "
      ]
     },
     "execution_count": 5,
     "metadata": {},
     "output_type": "execute_result"
    }
   ],
   "source": [
    "df.tail()"
   ]
  },
  {
   "cell_type": "code",
   "execution_count": 6,
   "id": "82915f64",
   "metadata": {},
   "outputs": [
    {
     "data": {
      "text/plain": [
       "'. this experience of which i am about to tell you is my second encounter with dmt, which proved to be very different and much more powerful than the first trip, seeing as how my first trip was only a 30mg dose. i am a mildly experienced psychedelic user with several acid and shroom trips, i am also an avid pot smoker. we came across the dmt from a friend of a friend who makes it himself-being quite a science buff. on my first trip i indulged in the lovely tunes of ratatat’s mumtaz khan and several other songs from lp3, but for this trip i was going harder: oblivian by mastodon then mellowing things out with montanita by ratatat. with the pipe fully loaded with 50mg of pure white dmt and a bit of bud to mask the taste i began to indulge. after four hits i had pipe down~*~*~*i closed my eyes and blasted off into a crazy dancing vibalicious wormhole of insane color and emotion, i grooved for several minutes to the song . somehow i felt i was able to take another hit after five minutes or so and now is when the magic really starts. after taking the last hit while still tripping, i closed my eyes again as the bouncing rhythms of montanita began to take over. the gold streaks and shining colors that broke through my brain when i closed my eyes were almost too bright for me to keep them closed, but i wanted to, it felt amazing and looked unbelievable. then in happened: i saw the most beautiful face of a woman in front of me, she looked almost not human but more like an angel, all the while her face and head wear morphing. i remember at one point she had 3 or four feathers standing straight up around the crown of her head. the color scheme quickly switching to light blue and spring green creating the most heavenly tone. i began to question: “is this my version of chief broom? ” . but then the face morphed again into a genderless entity of beauty and perfection and i felt the face of god. the face was definitely human, but looked like no human i could ever imagine. it was so supremely perfect but still there was no gender. in its face i could feel and see all of creation morphing toward the center of it. i asked it something the lines of “will i be here again? ” and it assured me that i would. i felt an amazing sense of eternal relief. i asked it again: “can i come here through astral projection? ” and it assure me i would. as the universe continued to morph in triangular shards spiraling into the center of the face i began to find myself traveling through another wormhole if you will. at was all coming down, i opened my eyes slowly not knowing if i had said anything or how long it had taken, but with a feeling like glowing after acid. i was shocked and my brain had been blown, it was one of the most powerful psychedelic experiences i have had and ill never forget it. dmt can make me truly feel that which i cannot even believe in afterwards, it is a very powerful drug, but whether or not it is something more than just that is for every person to decide for themselves. peace out!'"
      ]
     },
     "execution_count": 6,
     "metadata": {},
     "output_type": "execute_result"
    }
   ],
   "source": [
    "df['report_text'][5]"
   ]
  },
  {
   "cell_type": "code",
   "execution_count": 7,
   "id": "26cbcd47",
   "metadata": {},
   "outputs": [],
   "source": [
    "def fix_common_mojibake(text):\n",
    "    if not isinstance(text, str):\n",
    "        return text\n",
    "\n",
    "    replacements = {\n",
    "        'â€™': \"'\",\n",
    "        'â€œ': '\"',\n",
    "        'â€': '\"',\n",
    "        'â€“': '-', \n",
    "        'â€”': '-', \n",
    "        'â€¦': '...', \n",
    "        'Ã©': 'é',\n",
    "        'Ã¨': 'è',\n",
    "        'Ã¢': 'â',\n",
    "        'Ãª': 'ê',\n",
    "        'Ã´': 'ô',\n",
    "        'Ã': 'à',\n",
    "        'Â': '',  # sometimes appears before currency symbols\n",
    "    }\n",
    "\n",
    "    for wrong, right in replacements.items():\n",
    "        text = text.replace(wrong, right)\n",
    "\n",
    "    return text\n",
    "\n",
    "df['report_text'] = df['report_text'].apply(fix_common_mojibake)"
   ]
  },
  {
   "cell_type": "code",
   "execution_count": 8,
   "id": "5ba829f8",
   "metadata": {},
   "outputs": [],
   "source": [
    "import re\n",
    "\n",
    "def fix_leading_contractions_lower(text):\n",
    "    if pd.isna(text):\n",
    "        return \"\"\n",
    "\n",
    "    # Beginning of text\n",
    "    text = re.sub(r\"^['‘’]m\\b\", \"i am\", text)\n",
    "    text = re.sub(r\"^['‘’]ve\\b\", \"i have\", text)\n",
    "    text = re.sub(r\"^['‘’]d\\b\", \"i would\", text)\n",
    "    text = re.sub(r\"^['‘’]ll\\b\", \"i will\", text)\n",
    "\n",
    "    return text\n",
    "\n",
    "df['report_text'] = df['report_text'].apply(fix_leading_contractions_lower)"
   ]
  },
  {
   "cell_type": "code",
   "execution_count": 9,
   "id": "1806ba5d",
   "metadata": {},
   "outputs": [],
   "source": [
    "# Define a word count function\n",
    "def count_words(text):\n",
    "    if pd.isna(text):\n",
    "        return 0\n",
    "    return len(str(text).split())\n",
    "\n",
    "# Apply word count to each report\n",
    "df['word_count'] = df['report_text'].apply(count_words)"
   ]
  },
  {
   "cell_type": "code",
   "execution_count": 10,
   "id": "52c49672",
   "metadata": {},
   "outputs": [
    {
     "name": "stdout",
     "output_type": "stream",
     "text": [
      "Reports with fewer than 500 words: 482\n",
      "Reports with more than 2500 words: 55\n"
     ]
    }
   ],
   "source": [
    "# Count reports <500 and >2500 words\n",
    "less_than_800 = (df['word_count'] < 500).sum()\n",
    "greater_than_2000 = (df['word_count'] > 2500).sum()\n",
    "\n",
    "print(f\"Reports with fewer than 500 words: {less_than_800}\")\n",
    "print(f\"Reports with more than 2500 words: {greater_than_2000}\")"
   ]
  },
  {
   "cell_type": "code",
   "execution_count": 11,
   "id": "10ebdef1",
   "metadata": {},
   "outputs": [
    {
     "data": {
      "image/png": "[encoded data removed]",
      "text/plain": [
       "<Figure size 1000x600 with 1 Axes>"
      ]
     },
     "metadata": {},
     "output_type": "display_data"
    }
   ],
   "source": [
    "import matplotlib.pyplot as plt\n",
    "\n",
    "# Plot histogram of word counts\n",
    "plt.figure(figsize=(10, 6))\n",
    "plt.hist(df['word_count'], bins=50, color='skyblue', edgecolor='black')\n",
    "plt.title('Distribution of Report Word Counts')\n",
    "plt.xlabel('Word Count')\n",
    "plt.ylabel('Number of Reports')\n",
    "plt.grid(True)\n",
    "plt.tight_layout()\n",
    "plt.show()"
   ]
  },
  {
   "cell_type": "code",
   "execution_count": 12,
   "id": "b79e6a8c",
   "metadata": {},
   "outputs": [
    {
     "data": {
      "text/plain": [
       "(1668, 7)"
      ]
     },
     "execution_count": 12,
     "metadata": {},
     "output_type": "execute_result"
    }
   ],
   "source": [
    "df.shape"
   ]
  },
  {
   "cell_type": "code",
   "execution_count": 13,
   "id": "ca223039",
   "metadata": {},
   "outputs": [
    {
     "name": "stdout",
     "output_type": "stream",
     "text": [
      "Filtered 1127 reports, saved 800 to 'dmt_800_reports.csv'\n"
     ]
    }
   ],
   "source": [
    "# Step 1: Filter reports between 500 and 2500 words\n",
    "filtered_df = df[(df['word_count'] > 500) & (df['word_count'] < 2500)]\n",
    "\n",
    "# Step 2: Randomly sample 800 reports from the filtered DataFrame\n",
    "sampled_df = filtered_df.sample(n=800, random_state=42)  # random_state ensures reproducibility\n",
    "\n",
    "# Step 3: Save to CSV\n",
    "sampled_df.to_csv(\"dmt_800_reports.csv\", index=False)\n",
    "\n",
    "print(f\"Filtered {len(filtered_df)} reports, saved 800 to 'dmt_800_reports.csv'\")"
   ]
  }
 ],
 "metadata": {
  "kernelspec": {
   "display_name": "Python 3 (ipykernel)",
   "language": "python",
   "name": "python3"
  },
  "language_info": {
   "codemirror_mode": {
    "name": "ipython",
    "version": 3
   },
   "file_extension": ".py",
   "mimetype": "text/x-python",
   "name": "python",
   "nbconvert_exporter": "python",
   "pygments_lexer": "ipython3",
   "version": "3.9.15"
  }
 },
 "nbformat": 4,
 "nbformat_minor": 5
}
