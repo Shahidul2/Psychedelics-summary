{
 "cells": [
  {
   "cell_type": "code",
   "execution_count": null,
   "id": "8c95c33c",
   "metadata": {},
   "outputs": [
    {
     "data": {
      "text/html": [
       "<div>\n",
       "<style scoped>\n",
       "    .dataframe tbody tr th:only-of-type {\n",
       "        vertical-align: middle;\n",
       "    }\n",
       "\n",
       "    .dataframe tbody tr th {\n",
       "        vertical-align: top;\n",
       "    }\n",
       "\n",
       "    .dataframe thead th {\n",
       "        text-align: right;\n",
       "    }\n",
       "</style>\n",
       "<table border=\"1\" class=\"dataframe\">\n",
       "  <thead>\n",
       "    <tr style=\"text-align: right;\">\n",
       "      <th></th>\n",
       "      <th>title</th>\n",
       "      <th>substance</th>\n",
       "      <th>age</th>\n",
       "      <th>weight</th>\n",
       "      <th>gender</th>\n",
       "      <th>report_text</th>\n",
       "    </tr>\n",
       "  </thead>\n",
       "  <tbody>\n",
       "    <tr>\n",
       "      <th>0</th>\n",
       "      <td>Forced Fascism for Rejecting the Goddess</td>\n",
       "      <td>Psilocybin</td>\n",
       "      <td>Age at time of experience: 20</td>\n",
       "      <td>155 lb</td>\n",
       "      <td>Male</td>\n",
       "      <td>DOSE:5 mloralMushrooms - P. cubensis(dried)BOD...</td>\n",
       "    </tr>\n",
       "    <tr>\n",
       "      <th>1</th>\n",
       "      <td>Loss of Presence</td>\n",
       "      <td>Psilocybin</td>\n",
       "      <td>Age at time of experience: Not Given</td>\n",
       "      <td>145 lb</td>\n",
       "      <td>Male</td>\n",
       "      <td>DOSE:3.5 goralMushrooms - P. cubensis(dried)BO...</td>\n",
       "    </tr>\n",
       "    <tr>\n",
       "      <th>2</th>\n",
       "      <td>Memory Exploration</td>\n",
       "      <td>Psilocybin</td>\n",
       "      <td>Age at time of experience: Not Given</td>\n",
       "      <td>115 lb</td>\n",
       "      <td>Male</td>\n",
       "      <td>DOSE:T+ 0:003.5 goralMushrooms - P. cubensis(d...</td>\n",
       "    </tr>\n",
       "    <tr>\n",
       "      <th>3</th>\n",
       "      <td>The Gandhi Experiment</td>\n",
       "      <td>Psilocybin</td>\n",
       "      <td>Age at time of experience: Not Given</td>\n",
       "      <td>155 lb</td>\n",
       "      <td>Not Specified</td>\n",
       "      <td>DOSE:1.75 goralMushrooms(dried)BODY WEIGHT:155...</td>\n",
       "    </tr>\n",
       "    <tr>\n",
       "      <th>4</th>\n",
       "      <td>Meeting the Eternal Mushroom Tribe</td>\n",
       "      <td>Psilocybin</td>\n",
       "      <td>Age at time of experience: 37</td>\n",
       "      <td>90 kg</td>\n",
       "      <td>Male</td>\n",
       "      <td>DOSE:1.3 goralMushrooms - P. cubensis(dried)BO...</td>\n",
       "    </tr>\n",
       "  </tbody>\n",
       "</table>\n",
       "</div>"
      ],
      "text/plain": [
       "                                      title   substance  \\\n",
       "0  Forced Fascism for Rejecting the Goddess  Psilocybin   \n",
       "1                          Loss of Presence  Psilocybin   \n",
       "2                        Memory Exploration  Psilocybin   \n",
       "3                     The Gandhi Experiment  Psilocybin   \n",
       "4        Meeting the Eternal Mushroom Tribe  Psilocybin   \n",
       "\n",
       "                                    age  weight         gender  \\\n",
       "0         Age at time of experience: 20  155 lb           Male   \n",
       "1  Age at time of experience: Not Given  145 lb           Male   \n",
       "2  Age at time of experience: Not Given  115 lb           Male   \n",
       "3  Age at time of experience: Not Given  155 lb  Not Specified   \n",
       "4         Age at time of experience: 37   90 kg           Male   \n",
       "\n",
       "                                         report_text  \n",
       "0  DOSE:5 mloralMushrooms - P. cubensis(dried)BOD...  \n",
       "1  DOSE:3.5 goralMushrooms - P. cubensis(dried)BO...  \n",
       "2  DOSE:T+ 0:003.5 goralMushrooms - P. cubensis(d...  \n",
       "3  DOSE:1.75 goralMushrooms(dried)BODY WEIGHT:155...  \n",
       "4  DOSE:1.3 goralMushrooms - P. cubensis(dried)BO...  "
      ]
     },
     "execution_count": 1,
     "metadata": {},
     "output_type": "execute_result"
    }
   ],
   "source": [
    "import numpy as np\n",
    "import pandas as pd\n",
    "\n",
    "df = pd.read_csv(r\"mushroom_reports.csv\")\n",
    "df.head()"
   ]
  },
  {
   "cell_type": "code",
   "execution_count": 2,
   "id": "7e1d4c39",
   "metadata": {},
   "outputs": [],
   "source": [
    "import re\n",
    "import contractions\n",
    "\n",
    "def clean_psychedelic_report(text):\n",
    "    \"\"\"Initial structure cleanup: remove BODY WEIGHT... and trailing metadata\"\"\"\n",
    "    if pd.isna(text):\n",
    "        return \"\"\n",
    "\n",
    "    text = text.replace('\\xa0', ' ').replace('\\n', ' ').strip()\n",
    "\n",
    "    # Remove everything before BODY WEIGHT\n",
    "    text = re.sub(r\"^.*?BODY WEIGHT:\\s*\\d+\\s*\\w+\\s*\", \"\", text)\n",
    "\n",
    "    # Remove everything after Exp Year\n",
    "    end_match = re.search(r\"Exp Year: \\d{4}ExpID:\", text)\n",
    "    if end_match:\n",
    "        text = text[:end_match.start()]\n",
    "\n",
    "    return re.sub(r'\\s{2,}', ' ', text).strip()\n",
    "\n",
    "def remove_duplicates(text):\n",
    "    \"\"\"Remove repeated sentences\"\"\"\n",
    "    sentences = text.split('. ')\n",
    "    seen = set()\n",
    "    unique_sentences = []\n",
    "    for s in sentences:\n",
    "        s_clean = s.strip()\n",
    "        if s_clean and s_clean not in seen:\n",
    "            seen.add(s_clean)\n",
    "            unique_sentences.append(s_clean)\n",
    "    return '. '.join(unique_sentences)\n",
    "\n",
    "def final_nlp_clean(text):\n",
    "    \"\"\"Final normalization and cleaning for NLP\"\"\"\n",
    "    if pd.isna(text):\n",
    "        return \"\"\n",
    "\n",
    "    # Contractions\n",
    "    text = contractions.fix(text)\n",
    "\n",
    "    # Remove parentheticals\n",
    "    text = re.sub(r'\\([^)]*\\)', '', text)\n",
    "    text = re.sub(r'\\[[^\\]]*\\]', '', text)\n",
    "    \n",
    "    # Replace em/en dash, ellipsis, and double hyphen with comma\n",
    "    text = text.replace('—', ',').replace('–', ',').replace('…', ',').replace('--', ',')\n",
    "\n",
    "    # Standardize repeated punctuation\n",
    "    text = re.sub(r'\\.{2,}', '.', text)\n",
    "    text = re.sub(r'!{2,}', '!', text)\n",
    "    text = re.sub(r'\\?{2,}', '?', text)\n",
    "\n",
    "    # Add spacing after punctuation\n",
    "    text = re.sub(r'(?<=[.!?])(?=\\S)', r' ', text)\n",
    "\n",
    "    # Separate camelCase\n",
    "    text = re.sub(r'([a-z])([A-Z])', r'\\1 \\2', text)\n",
    "\n",
    "    # Collapse spaces and lowercase\n",
    "    text = re.sub(r'\\s{2,}', ' ', text).lower()\n",
    "\n",
    "    return text.strip()"
   ]
  },
  {
   "cell_type": "code",
   "execution_count": 3,
   "id": "2c0af212",
   "metadata": {},
   "outputs": [],
   "source": [
    "df['report_text'] = df['report_text'].apply(clean_psychedelic_report)\n",
    "df['report_text'] = df['report_text'].apply(remove_duplicates)\n",
    "df['report_text'] = df['report_text'].apply(final_nlp_clean)"
   ]
  },
  {
   "cell_type": "code",
   "execution_count": 4,
   "id": "bc890542",
   "metadata": {},
   "outputs": [],
   "source": [
    "def extract_age(text):\n",
    "    \"\"\"Extract age or return 'Not Given'.\"\"\"\n",
    "    if pd.isna(text):\n",
    "        return \"Not Given\"\n",
    "    match = re.search(r'Age at time of experience:\\s*(\\d+|Not Given)', text, re.IGNORECASE)\n",
    "    return match.group(1) if match else \"Not Given\"\n",
    "\n",
    "def extract_weight(text):\n",
    "    \"\"\"Extract weight in kg from lb, kg, or stone.\"\"\"\n",
    "    if pd.isna(text):\n",
    "        return np.nan\n",
    "    match = re.search(r'(\\d+)\\s*(lb|kg|st)', text.lower())\n",
    "    if match:\n",
    "        val, unit = int(match.group(1)), match.group(2)\n",
    "        if unit == 'kg':\n",
    "            return val\n",
    "        elif unit == 'lb':\n",
    "            return round(val * 0.453592)  # convert lb to kg\n",
    "        elif unit == 'st':\n",
    "            return round(val * 6.35029)   # convert stone to kg\n",
    "    return np.nan\n",
    "\n",
    "# Apply to columns\n",
    "df['age'] = df['age'].apply(extract_age)\n",
    "df['weight'] = df['weight'].apply(extract_weight)"
   ]
  },
  {
   "cell_type": "code",
   "execution_count": 5,
   "id": "1544fe84",
   "metadata": {},
   "outputs": [
    {
     "data": {
      "text/html": [
       "<div>\n",
       "<style scoped>\n",
       "    .dataframe tbody tr th:only-of-type {\n",
       "        vertical-align: middle;\n",
       "    }\n",
       "\n",
       "    .dataframe tbody tr th {\n",
       "        vertical-align: top;\n",
       "    }\n",
       "\n",
       "    .dataframe thead th {\n",
       "        text-align: right;\n",
       "    }\n",
       "</style>\n",
       "<table border=\"1\" class=\"dataframe\">\n",
       "  <thead>\n",
       "    <tr style=\"text-align: right;\">\n",
       "      <th></th>\n",
       "      <th>title</th>\n",
       "      <th>substance</th>\n",
       "      <th>age</th>\n",
       "      <th>weight</th>\n",
       "      <th>gender</th>\n",
       "      <th>report_text</th>\n",
       "    </tr>\n",
       "  </thead>\n",
       "  <tbody>\n",
       "    <tr>\n",
       "      <th>1005</th>\n",
       "      <td>A Fungal Bridge to the Cosmos</td>\n",
       "      <td>Psilocybin</td>\n",
       "      <td>18</td>\n",
       "      <td>52.0</td>\n",
       "      <td>Female</td>\n",
       "      <td>: 3g cubensis set: sleep deprived , slightly a...</td>\n",
       "    </tr>\n",
       "    <tr>\n",
       "      <th>1006</th>\n",
       "      <td>Psilocybin Therapy for Personal Growth</td>\n",
       "      <td>Psilocybin</td>\n",
       "      <td>54</td>\n",
       "      <td>70.0</td>\n",
       "      <td>Male</td>\n",
       "      <td>’m 54, was diagnosed with bi-polar disorder at...</td>\n",
       "    </tr>\n",
       "    <tr>\n",
       "      <th>1007</th>\n",
       "      <td>Love in the Eyes of the Reaper</td>\n",
       "      <td>Psilocybin</td>\n",
       "      <td>34</td>\n",
       "      <td>91.0</td>\n",
       "      <td>Male</td>\n",
       "      <td>the time of this experience, i had taken a lon...</td>\n",
       "    </tr>\n",
       "    <tr>\n",
       "      <th>1008</th>\n",
       "      <td>Hearing the Logos</td>\n",
       "      <td>Psilocybin</td>\n",
       "      <td>34</td>\n",
       "      <td>88.0</td>\n",
       "      <td>Male</td>\n",
       "      <td>is christmas day and i am writing this after e...</td>\n",
       "    </tr>\n",
       "    <tr>\n",
       "      <th>1009</th>\n",
       "      <td>Solitary Meditative Trip in the Nepali Jungle</td>\n",
       "      <td>Psilocybin</td>\n",
       "      <td>22</td>\n",
       "      <td>61.0</td>\n",
       "      <td>Male</td>\n",
       "      <td>am a 22 year-old undergraduate from north caro...</td>\n",
       "    </tr>\n",
       "  </tbody>\n",
       "</table>\n",
       "</div>"
      ],
      "text/plain": [
       "                                              title   substance age  weight  \\\n",
       "1005                  A Fungal Bridge to the Cosmos  Psilocybin  18    52.0   \n",
       "1006         Psilocybin Therapy for Personal Growth  Psilocybin  54    70.0   \n",
       "1007                 Love in the Eyes of the Reaper  Psilocybin  34    91.0   \n",
       "1008                              Hearing the Logos  Psilocybin  34    88.0   \n",
       "1009  Solitary Meditative Trip in the Nepali Jungle  Psilocybin  22    61.0   \n",
       "\n",
       "      gender                                        report_text  \n",
       "1005  Female  : 3g cubensis set: sleep deprived , slightly a...  \n",
       "1006    Male  ’m 54, was diagnosed with bi-polar disorder at...  \n",
       "1007    Male  the time of this experience, i had taken a lon...  \n",
       "1008    Male  is christmas day and i am writing this after e...  \n",
       "1009    Male  am a 22 year-old undergraduate from north caro...  "
      ]
     },
     "execution_count": 5,
     "metadata": {},
     "output_type": "execute_result"
    }
   ],
   "source": [
    "df.tail()"
   ]
  },
  {
   "cell_type": "code",
   "execution_count": 6,
   "id": "9d08dbba",
   "metadata": {},
   "outputs": [
    {
     "data": {
      "text/plain": [
       "\"start: approx. 9:30 pmtrip end: 3:00 amtook: p. cubensis b+ strain dosage: 4. 6g method: tea at about 9:30 pm, my spouse and i made,what we call around here,philosopher's tea, not sure what everyone else calls it. we make it like we would make tea, normally, but with mushrooms and honey for added taste. and we eat the softened mushrooms, too. after that was done, i sat back and waited. we watched some television as we wait for it to kick in. i feel suddenly nauseous, but it is mild. i ride it out. it was like feeling slightly dizzy. this is nothing. i have been pregnant and i have had bad food poisoning, so this is nothing compared to that. we decide to turn on netflix, because,in his opinion, cartoons are great to watch. we settle on invader zim. the colors are so bright that i cannot look at them. i look away only to see rainbows made only of blue and red on my walls. they move when i move my head. that is when i realized that they were starting to kick in. i feel like i have to use the bathroom, so i go. now, my walls are this strange fabric wallpaper. like white and a light beige. i do not think i am having visuals. until i look at this wall right in front of me. it looks like it is covered in one of those sheets of plastic that makes stuff look like a hologram. it is awesome! i am spending time in there moving my head and watching the patterns shift. i have a brief moment of panic where i think that i might have had too much. it is okay. i calm myself and snoop dogg pops up in my head to tell me that it is “all good. snoppy-de-zissle” and he played part of his “drop it like it is hot” video for me in my head. i take snoop's advice to just relax and go with it. i take snoop's advice to just relax and go with it. i leave the bathroom and sit back down. my spouse is naked and i realize that the little bit of clothes that i am wearing are restricting me too. we lay on the couch together naked. invader zim goes off because netflix is acting up and we turn on music. nothing with words, just some dubstep and house. this is when i look at my plant and realize that i am in a jungle/forest. everything feels like it if it does not look like it completely. i feel like i am home. i am so relaxed and peaceful and i cannot stop feeling my own skin! i close my eyes and i see myself as who i was in another life. the other aspect of my soul. she is there with another aspect, my inner animal, my black leopard. they are with me and they are celebrating. i am relating this to my spouse. i realize that my kitty is a male. which seems odd to me at first. i have never felt any sort of gender from it, so i assumed it was female. but i could be wrong, with what it is, gender is irrelevant. it flows like water. it can be anything it wants, it is my perception that colors it, adds a name, a label to it. my spouse curls up to me and we start having foreplay. initially, i was worried about the nausea coming back during sex and i am soooo not into roman showers. i ignore myself and let it go. we make love. now, i have never had sex while on any psychedelics and neither has he. it is our first time for this together. the experience was beyond anything i ever felt. i do not even remember having an orgasm because all i felt was this incredible energy soaring through me and seeing bright tendrils of colors flowing from my body to his. he moves to another position and i ask him, “did i come? ”he tells me that i did and i giggle. when we are both done, i climb into the tub in the dark to take a bath. the jungle's back. he joins me for a little bit and we talk. i tell him that i want to be one with him and live as one creature, he tells me that it could not work because we are meant to be separate. somehow, this goes on to us talking about how men and women are the same, just with sex organs placed differently. he leaves me. i close my eyes and colors and geometric patterns swirl. they move when i move my head. when i get out, we lay down on the floor together and i cannot stop moving. i am dancing, but laying down. we talk like we have not talked in years. we talk like we have not talked in years. we discuss the world, ourselves, the things we are seeing. we are open. i tell him that i wish everyone could feel like we feel now because then they would all see the world how it was meant to be seen. no rules, no boundaries, no wars over petty things. if they could feel this kind of peace in the world, everyone would realize just how meaningless everything else is. the money, the nice clothes and expensive cars are all just distractions. my former self tells me something that i tell my spouse: “sink your claws into a tree and climb it. i love that feeling because that is life. ”i am happy and at peace with myself finally. he is having a similar experience with who he is been and who he is now. at one point, i hear laughter and my god is there. being the smart-ass that he always has been, he asks me if i am going to stop being his and go become a tree-hugging hippy. my spouse and i laugh at this for about a good solid two minutes. he goes away, still laughing at us, but in good spirits. the rest of the night was just a solid body buzz that i never wanted to end. we make love again and he has a full-body tantric orgasm. he does get sick towards the end, but he is experienced at this. i only felt a little sick, but nothing came out either end. the body buzz lasts for about an hour and a half and we drift off to sleep. waking up, i feel tired, but happier than i have in years. i have been struggling with depression for well over 10 years. i have had therapy and medication and none of that has worked. one night with these beauties and i wake up without feeling that depression. now, i am not saying that mushrooms are an instant cure for depression, but what i am saying is that they helped me thus far. will i do it again? most certainly and always with respect.\""
      ]
     },
     "execution_count": 6,
     "metadata": {},
     "output_type": "execute_result"
    }
   ],
   "source": [
    "df['report_text'][5]"
   ]
  },
  {
   "cell_type": "code",
   "execution_count": 7,
   "id": "853f13be",
   "metadata": {},
   "outputs": [],
   "source": [
    "def fix_common_mojibake(text):\n",
    "    if not isinstance(text, str):\n",
    "        return text\n",
    "\n",
    "    replacements = {\n",
    "        'â€™': \"'\",\n",
    "        'â€œ': '\"',\n",
    "        'â€': '\"',\n",
    "        'â€“': '-', \n",
    "        'â€”': '-', \n",
    "        'â€¦': '...', \n",
    "        'Ã©': 'é',\n",
    "        'Ã¨': 'è',\n",
    "        'Ã¢': 'â',\n",
    "        'Ãª': 'ê',\n",
    "        'Ã´': 'ô',\n",
    "        'Ã': 'à',\n",
    "        'Â': '',  # sometimes appears before currency symbols\n",
    "    }\n",
    "\n",
    "    for wrong, right in replacements.items():\n",
    "        text = text.replace(wrong, right)\n",
    "\n",
    "    return text\n",
    "\n",
    "df['report_text'] = df['report_text'].apply(fix_common_mojibake)"
   ]
  },
  {
   "cell_type": "code",
   "execution_count": 8,
   "id": "0e4c17ab",
   "metadata": {},
   "outputs": [],
   "source": [
    "import re\n",
    "\n",
    "def fix_leading_contractions_lower(text):\n",
    "    if pd.isna(text):\n",
    "        return \"\"\n",
    "\n",
    "    # Beginning of text\n",
    "    text = re.sub(r\"^['‘’]m\\b\", \"i am\", text)\n",
    "    text = re.sub(r\"^['‘’]ve\\b\", \"i have\", text)\n",
    "    text = re.sub(r\"^['‘’]d\\b\", \"i would\", text)\n",
    "    text = re.sub(r\"^['‘’]ll\\b\", \"i will\", text)\n",
    "\n",
    "    return text\n",
    "\n",
    "df['report_text'] = df['report_text'].apply(fix_leading_contractions_lower)"
   ]
  },
  {
   "cell_type": "code",
   "execution_count": 9,
   "id": "e0bf41f9",
   "metadata": {},
   "outputs": [
    {
     "data": {
      "text/plain": [
       "'i am not sure if i was bored or just looking for something introspective to do, but it was a friday night and i watched the bag of dried shrooms sit on my desk, as if they were waiting for me. i ate a few of them, thankfully they were not crushed or anything. i ate probably a gram or two and let it simmer, i like to do that so i can keep my doses low and see how my mind reacts to it, and if everything checks out, i take the plunge and consume a bit more. i was alone in my room, with nothing to do but to experience things phenomenologically, if that even makes sense. nothing changed quite yet, so i decided to eat about 2 more grams and put on some music. i have a song on my playlist, called pum pum shruum styar . it was quite the song, and i notice my hands become really “handsy”. my hands were indeed, hands. i decide that is crazy and decide to get under the covers and really turn up the volume on my headphones. gatorade by yung lean was after a couple of other relaxing hits. gatorade by yung lean has these synths that sound very wavy sober, and they felt incredibly wavy tripping. each drone of the synth brought upon another wave of euphoria, and i could physically see each and every wave coming from my toes to my head. it was so beautiful and euphoric, and as much as i hate to admit it, i noticed i had climaxed from that song. it was certainly an experience. shocked by that seemingly out of nowhere orgasm, i turned the lights to as dim as they could be and observe my artwork i have up on my wall. i have those light changing leds and a lamp with 3 color changing bulbs. everything was a dim glow, red green and blue, and jesus murphy it was beautiful. i could see every imperfection in one of my drawings start to dance and become something new, almost as if my mind was attempting to fix my mistakes. it felt awesome, i gained insight into new ideas and envisioned an end product much richer than i could have ever come up with. my moment with my wall ended as i got a snapchat from one of my friends. i briefly explained to her that i was on the same level as the gods when i suddenly noticed the leds in my room. they were dim, so i could see each and every individual led. each of them had a consciousness, but they were all in perfect unity, trying to communicate to me that i was one of them. i could see each and every individual led. each of them had a consciousness, but they were all in perfect unity, trying to communicate to me that i was one of them. after hearing many useful wisdoms that i could not for the life of me remember, i looked down to my desk, which was looking very desk-likewhen sudden streams of blue light came from each line of the object, and they continued into a grid like pattern extending onto infinity. the wall behind it did some weird stuff to me, such as be very loud, sort of like a big woaahaha sound as it became all of my field of view, until i heard a pop in my head, when it suddenly returned back to the place it was supposed to be. it is almost as if spacetime and my perception of it is a line in my sober life, but on these mushrooms it became more of a 3d object and was somehow tying a knot into itself, and that pop was the knot coming completely undone, like untying my shoes. that little air bubble in the engine that is my consciousness really scared the fuck out of me, so i decided to turn on the tv and lights. i put on netflix’s our planet series, and watched the animals do what they do. it was incredibly calming, constantly reminding myself that i am literally the same thing as these flamingos are. that thought train went rolling, as i realized my dresser was looking out of place. frustrated, i would try to imagine what my room would feel like with no dresser at all, until i came to the realization that the dresser is as much of the room as the room itself is, and that the room was as much of the house as the house was, the house as much as the town, etc etc until it came to the point that the damn dresser was essentially the universe, and i was at the center of it. being at the center of the universe put my body into a weird place, because i was suddenly not in my body anymore. the whole concept of i did not really apply anymore. i was looking at that guy in awe, sort of like i was watching that guy like he was an act in the our planet show. i realized that his problems that he is going through right now really do not matter, because it does not apply to i. i experienced the blue waves, the center of the universe and exploring the depths of the unknown, and it seemed preposterous that guy was worried about whatever stupid homework assignment he did not get done. this was incredibly blissful, and i became something greater than myself, almost as if i really had joined the red lights council that i communicated with earlier. suddenly, david attenburough is commentating about a glacier, which a massive chunk splits off and roars into the sea. this immediately connected me with that guy once again, and i was resurrected from the dead. the weird thing about that whole ego dissolution thing, if one could call it that, is that i could still see that guy do stuff. like he got up and walked around for a bit, attentively watching the tv. i certainly did not do that. however it happened, i was suddenly reconnected with my body and realized that i started my comedown. i decided the floor was the best place to be and i got onto the carpet, holding onto the visuals i have left. snowflakes were dancing across the carpet, doing funny stuff until i noticed the snowflakes started bleeding, only to realize that i was bleeding. i was having a nosebleed, which is not uncommon for me to randomly happen, it was incredibly dry and i live at high altitude. i was freaked out for a bit, as i did not want to make a mess, but after that was handled i stared at my blood filled napkin for probably too long. i felt really humbled and back to the ground as a human being, i could visually see the aspect of my physical body that kept me alive. from there nothing significant happened, i just crawled into bed and cruised the comedown on my phone. this was an incredible trip that i will never forget.'"
      ]
     },
     "execution_count": 9,
     "metadata": {},
     "output_type": "execute_result"
    }
   ],
   "source": [
    "df['report_text'][13]"
   ]
  },
  {
   "cell_type": "code",
   "execution_count": 10,
   "id": "55409f0f",
   "metadata": {},
   "outputs": [],
   "source": [
    "# Define a word count function\n",
    "def count_words(text):\n",
    "    if pd.isna(text):\n",
    "        return 0\n",
    "    return len(str(text).split())\n",
    "\n",
    "# Apply word count to each report\n",
    "df['word_count'] = df['report_text'].apply(count_words)"
   ]
  },
  {
   "cell_type": "code",
   "execution_count": 11,
   "id": "553a7223",
   "metadata": {},
   "outputs": [
    {
     "name": "stdout",
     "output_type": "stream",
     "text": [
      "Reports with fewer than 500 words: 34\n",
      "Reports with more than 2500 words: 86\n"
     ]
    }
   ],
   "source": [
    "# Count reports <500 and >2500 words\n",
    "less_than_800 = (df['word_count'] < 500).sum()\n",
    "greater_than_2000 = (df['word_count'] > 2500).sum()\n",
    "\n",
    "print(f\"Reports with fewer than 500 words: {less_than_800}\")\n",
    "print(f\"Reports with more than 2500 words: {greater_than_2000}\")"
   ]
  },
  {
   "cell_type": "code",
   "execution_count": 12,
   "id": "539332ca",
   "metadata": {},
   "outputs": [
    {
     "data": {
      "text/html": [
       "<div>\n",
       "<style scoped>\n",
       "    .dataframe tbody tr th:only-of-type {\n",
       "        vertical-align: middle;\n",
       "    }\n",
       "\n",
       "    .dataframe tbody tr th {\n",
       "        vertical-align: top;\n",
       "    }\n",
       "\n",
       "    .dataframe thead th {\n",
       "        text-align: right;\n",
       "    }\n",
       "</style>\n",
       "<table border=\"1\" class=\"dataframe\">\n",
       "  <thead>\n",
       "    <tr style=\"text-align: right;\">\n",
       "      <th></th>\n",
       "      <th>title</th>\n",
       "      <th>substance</th>\n",
       "      <th>age</th>\n",
       "      <th>weight</th>\n",
       "      <th>gender</th>\n",
       "      <th>report_text</th>\n",
       "      <th>word_count</th>\n",
       "    </tr>\n",
       "  </thead>\n",
       "  <tbody>\n",
       "    <tr>\n",
       "      <th>0</th>\n",
       "      <td>Forced Fascism for Rejecting the Goddess</td>\n",
       "      <td>Psilocybin</td>\n",
       "      <td>20</td>\n",
       "      <td>70.0</td>\n",
       "      <td>Male</td>\n",
       "      <td>the spring of 2022, i was pretty depressed. i ...</td>\n",
       "      <td>2748</td>\n",
       "    </tr>\n",
       "    <tr>\n",
       "      <th>1</th>\n",
       "      <td>Loss of Presence</td>\n",
       "      <td>Psilocybin</td>\n",
       "      <td>Not Given</td>\n",
       "      <td>66.0</td>\n",
       "      <td>Male</td>\n",
       "      <td>second adventure into the mystical realm of ps...</td>\n",
       "      <td>2058</td>\n",
       "    </tr>\n",
       "    <tr>\n",
       "      <th>2</th>\n",
       "      <td>Memory Exploration</td>\n",
       "      <td>Psilocybin</td>\n",
       "      <td>Not Given</td>\n",
       "      <td>52.0</td>\n",
       "      <td>Male</td>\n",
       "      <td>:i am 17 and considers myself fairly well vers...</td>\n",
       "      <td>1142</td>\n",
       "    </tr>\n",
       "    <tr>\n",
       "      <th>3</th>\n",
       "      <td>The Gandhi Experiment</td>\n",
       "      <td>Psilocybin</td>\n",
       "      <td>Not Given</td>\n",
       "      <td>70.0</td>\n",
       "      <td>Not Specified</td>\n",
       "      <td>to give some background on what this is all ab...</td>\n",
       "      <td>3050</td>\n",
       "    </tr>\n",
       "    <tr>\n",
       "      <th>4</th>\n",
       "      <td>Meeting the Eternal Mushroom Tribe</td>\n",
       "      <td>Psilocybin</td>\n",
       "      <td>37</td>\n",
       "      <td>90.0</td>\n",
       "      <td>Male</td>\n",
       "      <td>i am not an extremely experienced tripper, but...</td>\n",
       "      <td>1346</td>\n",
       "    </tr>\n",
       "  </tbody>\n",
       "</table>\n",
       "</div>"
      ],
      "text/plain": [
       "                                      title   substance        age  weight  \\\n",
       "0  Forced Fascism for Rejecting the Goddess  Psilocybin         20    70.0   \n",
       "1                          Loss of Presence  Psilocybin  Not Given    66.0   \n",
       "2                        Memory Exploration  Psilocybin  Not Given    52.0   \n",
       "3                     The Gandhi Experiment  Psilocybin  Not Given    70.0   \n",
       "4        Meeting the Eternal Mushroom Tribe  Psilocybin         37    90.0   \n",
       "\n",
       "          gender                                        report_text  \\\n",
       "0           Male  the spring of 2022, i was pretty depressed. i ...   \n",
       "1           Male  second adventure into the mystical realm of ps...   \n",
       "2           Male  :i am 17 and considers myself fairly well vers...   \n",
       "3  Not Specified  to give some background on what this is all ab...   \n",
       "4           Male  i am not an extremely experienced tripper, but...   \n",
       "\n",
       "   word_count  \n",
       "0        2748  \n",
       "1        2058  \n",
       "2        1142  \n",
       "3        3050  \n",
       "4        1346  "
      ]
     },
     "execution_count": 12,
     "metadata": {},
     "output_type": "execute_result"
    }
   ],
   "source": [
    "df.head()"
   ]
  },
  {
   "cell_type": "code",
   "execution_count": 13,
   "id": "22eafa32",
   "metadata": {},
   "outputs": [
    {
     "data": {
      "image/png": "[encoded data removed]",
      "text/plain": [
       "<Figure size 1000x600 with 1 Axes>"
      ]
     },
     "metadata": {},
     "output_type": "display_data"
    }
   ],
   "source": [
    "import matplotlib.pyplot as plt\n",
    "\n",
    "# Plot histogram of word counts\n",
    "plt.figure(figsize=(10, 6))\n",
    "plt.hist(df['word_count'], bins=50, color='skyblue', edgecolor='black')\n",
    "plt.title('Distribution of Report Word Counts')\n",
    "plt.xlabel('Word Count')\n",
    "plt.ylabel('Number of Reports')\n",
    "plt.grid(True)\n",
    "plt.tight_layout()\n",
    "plt.show()"
   ]
  },
  {
   "cell_type": "code",
   "execution_count": 15,
   "id": "44034796",
   "metadata": {},
   "outputs": [
    {
     "data": {
      "text/plain": [
       "(1010, 7)"
      ]
     },
     "execution_count": 15,
     "metadata": {},
     "output_type": "execute_result"
    }
   ],
   "source": [
    "df.shape"
   ]
  },
  {
   "cell_type": "markdown",
   "id": "7e1a6521",
   "metadata": {},
   "source": [
    "890 within 500 to 2500, we will take 800"
   ]
  },
  {
   "cell_type": "code",
   "execution_count": 16,
   "id": "7e2a9fff",
   "metadata": {},
   "outputs": [
    {
     "name": "stdout",
     "output_type": "stream",
     "text": [
      "Reports with fewer than 700 words: 114\n",
      "Reports with fewer than 800 words: 159\n"
     ]
    }
   ],
   "source": [
    "# Count reports with fewer than 700 and 800 words\n",
    "less_than_700 = (df['word_count'] < 700).sum()\n",
    "less_than_800 = (df['word_count'] < 800).sum()\n",
    "\n",
    "print(f\"Reports with fewer than 700 words: {less_than_700}\")\n",
    "print(f\"Reports with fewer than 800 words: {less_than_800}\")"
   ]
  },
  {
   "cell_type": "code",
   "execution_count": 17,
   "id": "91aedd49",
   "metadata": {},
   "outputs": [
    {
     "name": "stdout",
     "output_type": "stream",
     "text": [
      "Filtered 890 reports, saved 800 to 'final_800_reports.csv'\n"
     ]
    }
   ],
   "source": [
    "# Step 1: Filter reports between 500 and 2500 words\n",
    "filtered_df = df[(df['word_count'] > 500) & (df['word_count'] < 2500)]\n",
    "\n",
    "# Step 2: Randomly sample 800 reports from the filtered DataFrame\n",
    "sampled_df = filtered_df.sample(n=800, random_state=42)  # random_state ensures reproducibility\n",
    "\n",
    "# Step 3: Save to CSV\n",
    "sampled_df.to_csv(\"mushroom_800_reports.csv\", index=False)\n",
    "\n",
    "print(f\"Filtered {len(filtered_df)} reports, saved 800 to 'final_800_reports.csv'\")"
   ]
  },
  {
   "cell_type": "code",
   "execution_count": null,
   "id": "9ca30d71",
   "metadata": {},
   "outputs": [],
   "source": []
  }
 ],
 "metadata": {
  "kernelspec": {
   "display_name": "Python 3 (ipykernel)",
   "language": "python",
   "name": "python3"
  },
  "language_info": {
   "codemirror_mode": {
    "name": "ipython",
    "version": 3
   },
   "file_extension": ".py",
   "mimetype": "text/x-python",
   "name": "python",
   "nbconvert_exporter": "python",
   "pygments_lexer": "ipython3",
   "version": "3.9.15"
  }
 },
 "nbformat": 4,
 "nbformat_minor": 5
}
