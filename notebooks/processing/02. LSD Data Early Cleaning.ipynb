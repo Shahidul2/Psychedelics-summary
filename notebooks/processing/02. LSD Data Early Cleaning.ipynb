{
 "cells": [
  {
   "cell_type": "code",
   "execution_count": null,
   "id": "f51f710d",
   "metadata": {},
   "outputs": [
    {
     "data": {
      "text/html": [
       "<div>\n",
       "<style scoped>\n",
       "    .dataframe tbody tr th:only-of-type {\n",
       "        vertical-align: middle;\n",
       "    }\n",
       "\n",
       "    .dataframe tbody tr th {\n",
       "        vertical-align: top;\n",
       "    }\n",
       "\n",
       "    .dataframe thead th {\n",
       "        text-align: right;\n",
       "    }\n",
       "</style>\n",
       "<table border=\"1\" class=\"dataframe\">\n",
       "  <thead>\n",
       "    <tr style=\"text-align: right;\">\n",
       "      <th></th>\n",
       "      <th>title</th>\n",
       "      <th>substance</th>\n",
       "      <th>age</th>\n",
       "      <th>weight</th>\n",
       "      <th>gender</th>\n",
       "      <th>report_text</th>\n",
       "    </tr>\n",
       "  </thead>\n",
       "  <tbody>\n",
       "    <tr>\n",
       "      <th>0</th>\n",
       "      <td>Tribute to My Shaman</td>\n",
       "      <td>LSD</td>\n",
       "      <td>Age at time of experience: 24</td>\n",
       "      <td>175 lb</td>\n",
       "      <td>Male</td>\n",
       "      <td>DOSE:T+ 0:001 hitLSDT+ 1:3810 mgoralPharms - D...</td>\n",
       "    </tr>\n",
       "    <tr>\n",
       "      <th>1</th>\n",
       "      <td>Amazing: Not A Good Enough Word</td>\n",
       "      <td>LSD</td>\n",
       "      <td>Age at time of experience: 19</td>\n",
       "      <td>135 lb</td>\n",
       "      <td>Male</td>\n",
       "      <td>DOSE:T+ 0:00100 mginsufflatedKetamineT+ 8:352 ...</td>\n",
       "    </tr>\n",
       "    <tr>\n",
       "      <th>2</th>\n",
       "      <td>Leaping Off the Edge of Forever</td>\n",
       "      <td>LSD</td>\n",
       "      <td>Age at time of experience: Not Given</td>\n",
       "      <td>165 lb</td>\n",
       "      <td>Male</td>\n",
       "      <td>DOSE:oralOpium(tar / resin)3 dropsoralLSD(liqu...</td>\n",
       "    </tr>\n",
       "    <tr>\n",
       "      <th>3</th>\n",
       "      <td>A Psychedelic Way of Life</td>\n",
       "      <td>LSD</td>\n",
       "      <td>Age at time of experience: Not Given</td>\n",
       "      <td>135 lb</td>\n",
       "      <td>Male</td>\n",
       "      <td>DOSE:3 hitsoralLSD(liquid)BODY WEIGHT:135 lbno...</td>\n",
       "    </tr>\n",
       "    <tr>\n",
       "      <th>4</th>\n",
       "      <td>Took Lower Doses of Each</td>\n",
       "      <td>LSD</td>\n",
       "      <td>Age at time of experience: 30</td>\n",
       "      <td>90 kg</td>\n",
       "      <td>Male</td>\n",
       "      <td>DOSE:T+ 0:00oralLSDT+ 3:450.5 tabletsoralMDMAB...</td>\n",
       "    </tr>\n",
       "  </tbody>\n",
       "</table>\n",
       "</div>"
      ],
      "text/plain": [
       "                             title substance  \\\n",
       "0             Tribute to My Shaman       LSD   \n",
       "1  Amazing: Not A Good Enough Word       LSD   \n",
       "2  Leaping Off the Edge of Forever       LSD   \n",
       "3        A Psychedelic Way of Life       LSD   \n",
       "4         Took Lower Doses of Each       LSD   \n",
       "\n",
       "                                    age  weight gender  \\\n",
       "0         Age at time of experience: 24  175 lb   Male   \n",
       "1         Age at time of experience: 19  135 lb   Male   \n",
       "2  Age at time of experience: Not Given  165 lb   Male   \n",
       "3  Age at time of experience: Not Given  135 lb   Male   \n",
       "4         Age at time of experience: 30   90 kg   Male   \n",
       "\n",
       "                                         report_text  \n",
       "0  DOSE:T+ 0:001 hitLSDT+ 1:3810 mgoralPharms - D...  \n",
       "1  DOSE:T+ 0:00100 mginsufflatedKetamineT+ 8:352 ...  \n",
       "2  DOSE:oralOpium(tar / resin)3 dropsoralLSD(liqu...  \n",
       "3  DOSE:3 hitsoralLSD(liquid)BODY WEIGHT:135 lbno...  \n",
       "4  DOSE:T+ 0:00oralLSDT+ 3:450.5 tabletsoralMDMAB...  "
      ]
     },
     "execution_count": 1,
     "metadata": {},
     "output_type": "execute_result"
    }
   ],
   "source": [
    "import numpy as np\n",
    "import pandas as pd\n",
    "\n",
    "df = pd.read_csv(r\"lsd_reports.csv\")\n",
    "df.head()"
   ]
  },
  {
   "cell_type": "code",
   "execution_count": 2,
   "id": "8ed81304",
   "metadata": {},
   "outputs": [],
   "source": [
    "import re\n",
    "import contractions\n",
    "\n",
    "def clean_psychedelic_report(text):\n",
    "    \"\"\"Initial structure cleanup: remove BODY WEIGHT... and trailing metadata\"\"\"\n",
    "    if pd.isna(text):\n",
    "        return \"\"\n",
    "\n",
    "    text = text.replace('\\xa0', ' ').replace('\\n', ' ').strip()\n",
    "\n",
    "    # Remove everything before BODY WEIGHT\n",
    "    text = re.sub(r\"^.*?BODY WEIGHT:\\s*\\d+\\s*\\w+\\s*\", \"\", text)\n",
    "\n",
    "    # Remove everything after Exp Year\n",
    "    end_match = re.search(r\"Exp Year: \\d{4}ExpID:\", text)\n",
    "    if end_match:\n",
    "        text = text[:end_match.start()]\n",
    "\n",
    "    return re.sub(r'\\s{2,}', ' ', text).strip()\n",
    "\n",
    "def remove_duplicates(text):\n",
    "    \"\"\"Remove repeated sentences\"\"\"\n",
    "    sentences = text.split('. ')\n",
    "    seen = set()\n",
    "    unique_sentences = []\n",
    "    for s in sentences:\n",
    "        s_clean = s.strip()\n",
    "        if s_clean and s_clean not in seen:\n",
    "            seen.add(s_clean)\n",
    "            unique_sentences.append(s_clean)\n",
    "    return '. '.join(unique_sentences)\n",
    "\n",
    "def final_nlp_clean(text):\n",
    "    \"\"\"Final normalization and cleaning for NLP\"\"\"\n",
    "    if pd.isna(text):\n",
    "        return \"\"\n",
    "\n",
    "    # Contractions\n",
    "    text = contractions.fix(text)\n",
    "\n",
    "    # Remove parentheticals\n",
    "    text = re.sub(r'\\([^)]*\\)', '', text)\n",
    "    text = re.sub(r'\\[[^\\]]*\\]', '', text)\n",
    "    \n",
    "    # Replace em/en dash, ellipsis, and double hyphen with comma\n",
    "    text = text.replace('—', ',').replace('–', ',').replace('…', ',').replace('--', ',')\n",
    "\n",
    "    # Standardize repeated punctuation\n",
    "    text = re.sub(r'\\.{2,}', '.', text)\n",
    "    text = re.sub(r'!{2,}', '!', text)\n",
    "    text = re.sub(r'\\?{2,}', '?', text)\n",
    "\n",
    "    # Add spacing after punctuation\n",
    "    text = re.sub(r'(?<=[.!?])(?=\\S)', r' ', text)\n",
    "\n",
    "    # Separate camelCase\n",
    "    text = re.sub(r'([a-z])([A-Z])', r'\\1 \\2', text)\n",
    "\n",
    "    # Collapse spaces and lowercase\n",
    "    text = re.sub(r'\\s{2,}', ' ', text).lower()\n",
    "\n",
    "    return text.strip()"
   ]
  },
  {
   "cell_type": "code",
   "execution_count": 3,
   "id": "79afab58",
   "metadata": {},
   "outputs": [],
   "source": [
    "df['report_text'] = df['report_text'].apply(clean_psychedelic_report)\n",
    "df['report_text'] = df['report_text'].apply(remove_duplicates)\n",
    "df['report_text'] = df['report_text'].apply(final_nlp_clean)"
   ]
  },
  {
   "cell_type": "code",
   "execution_count": 4,
   "id": "b7c85e26",
   "metadata": {},
   "outputs": [],
   "source": [
    "def extract_age(text):\n",
    "    \"\"\"Extract age or return 'Not Given'.\"\"\"\n",
    "    if pd.isna(text):\n",
    "        return \"Not Given\"\n",
    "    match = re.search(r'Age at time of experience:\\s*(\\d+|Not Given)', text, re.IGNORECASE)\n",
    "    return match.group(1) if match else \"Not Given\"\n",
    "\n",
    "def extract_weight(text):\n",
    "    \"\"\"Extract weight in kg from lb, kg, or stone.\"\"\"\n",
    "    if pd.isna(text):\n",
    "        return np.nan\n",
    "    match = re.search(r'(\\d+)\\s*(lb|kg|st)', text.lower())\n",
    "    if match:\n",
    "        val, unit = int(match.group(1)), match.group(2)\n",
    "        if unit == 'kg':\n",
    "            return val\n",
    "        elif unit == 'lb':\n",
    "            return round(val * 0.453592)  # convert lb to kg\n",
    "        elif unit == 'st':\n",
    "            return round(val * 6.35029)   # convert stone to kg\n",
    "    return np.nan\n",
    "\n",
    "# Apply to columns\n",
    "df['age'] = df['age'].apply(extract_age)\n",
    "df['weight'] = df['weight'].apply(extract_weight)"
   ]
  },
  {
   "cell_type": "code",
   "execution_count": 5,
   "id": "63da9496",
   "metadata": {},
   "outputs": [
    {
     "data": {
      "text/html": [
       "<div>\n",
       "<style scoped>\n",
       "    .dataframe tbody tr th:only-of-type {\n",
       "        vertical-align: middle;\n",
       "    }\n",
       "\n",
       "    .dataframe tbody tr th {\n",
       "        vertical-align: top;\n",
       "    }\n",
       "\n",
       "    .dataframe thead th {\n",
       "        text-align: right;\n",
       "    }\n",
       "</style>\n",
       "<table border=\"1\" class=\"dataframe\">\n",
       "  <thead>\n",
       "    <tr style=\"text-align: right;\">\n",
       "      <th></th>\n",
       "      <th>title</th>\n",
       "      <th>substance</th>\n",
       "      <th>age</th>\n",
       "      <th>weight</th>\n",
       "      <th>gender</th>\n",
       "      <th>report_text</th>\n",
       "    </tr>\n",
       "  </thead>\n",
       "  <tbody>\n",
       "    <tr>\n",
       "      <th>1008</th>\n",
       "      <td>Gratuitous Grace</td>\n",
       "      <td>LSD</td>\n",
       "      <td>Not Given</td>\n",
       "      <td>54.0</td>\n",
       "      <td>Male</td>\n",
       "      <td>following is a report of an intense experience...</td>\n",
       "    </tr>\n",
       "    <tr>\n",
       "      <th>1009</th>\n",
       "      <td>Unexpected and Exhausting</td>\n",
       "      <td>LSD</td>\n",
       "      <td>Not Given</td>\n",
       "      <td>55.0</td>\n",
       "      <td>Female</td>\n",
       "      <td>most frightening thing about taking lsd and ke...</td>\n",
       "    </tr>\n",
       "    <tr>\n",
       "      <th>1010</th>\n",
       "      <td>Too Many Sounds</td>\n",
       "      <td>LSD</td>\n",
       "      <td>Not Given</td>\n",
       "      <td>76.0</td>\n",
       "      <td>Male</td>\n",
       "      <td>here is some background info about myself. i a...</td>\n",
       "    </tr>\n",
       "    <tr>\n",
       "      <th>1011</th>\n",
       "      <td>Floating with the Clouds</td>\n",
       "      <td>LSD</td>\n",
       "      <td>17</td>\n",
       "      <td>88.0</td>\n",
       "      <td>Male</td>\n",
       "      <td>never expected my night to be anything like it...</td>\n",
       "    </tr>\n",
       "    <tr>\n",
       "      <th>1012</th>\n",
       "      <td>A Day With Albert's Child</td>\n",
       "      <td>LSD</td>\n",
       "      <td>18</td>\n",
       "      <td>70.0</td>\n",
       "      <td>Male</td>\n",
       "      <td>am a male 18 years old of average body weight....</td>\n",
       "    </tr>\n",
       "  </tbody>\n",
       "</table>\n",
       "</div>"
      ],
      "text/plain": [
       "                          title substance        age  weight  gender  \\\n",
       "1008           Gratuitous Grace       LSD  Not Given    54.0    Male   \n",
       "1009  Unexpected and Exhausting       LSD  Not Given    55.0  Female   \n",
       "1010            Too Many Sounds       LSD  Not Given    76.0    Male   \n",
       "1011   Floating with the Clouds       LSD         17    88.0    Male   \n",
       "1012  A Day With Albert's Child       LSD         18    70.0    Male   \n",
       "\n",
       "                                            report_text  \n",
       "1008  following is a report of an intense experience...  \n",
       "1009  most frightening thing about taking lsd and ke...  \n",
       "1010  here is some background info about myself. i a...  \n",
       "1011  never expected my night to be anything like it...  \n",
       "1012  am a male 18 years old of average body weight....  "
      ]
     },
     "execution_count": 5,
     "metadata": {},
     "output_type": "execute_result"
    }
   ],
   "source": [
    "df.tail()"
   ]
  },
  {
   "cell_type": "code",
   "execution_count": 6,
   "id": "de3fe6dc",
   "metadata": {},
   "outputs": [
    {
     "data": {
      "text/plain": [
       "\"dose:repeatedsmoked cannabis1. 5 hitssublingual lsd0. 5 tabletsoral mdmarepeatedsmoked cannabis before i get started with this trip-report, let me provide you with some information about my drug intake prior to this experience. i would smoked weed countless times before this trip, and had taken mdma more times than i could count, too. i would tripped on acid 3 times in total, though the third time i got shitty tabs so i do not really like to count that as a real trip. i would taken n-bombe once. the day of the trip began, and i had not slept a wink the night before. so the entire day i was very tired and groggy, with only marijuana to assist me in staying awake and alert. me and a friend, we will call him b, went and picked up three tabs between us as we were on our way to a house party with a number of our other friends. we arrived at the house a little early as we knew the person who was hosting the party and she allowed us to sit in her living area and watch tv while we waited for people to arrive. with people due to begin arriving in the next 45 minutes, we decided it would be a good idea to stick our tabs under our tongue. as people began to arrive, i could feel myself coming up a little, i felt a little strange, but i could not put my finger on why. 10 minutes passed, and i decided to get up and head into the kitchen as a few people had just arrived and i wanted to go and say hi. i walked into the kitchen, and as i did so it felt like the door frame twisted to one side and i would just stepped into another world - that is the moment i knew the acid was beginning to hit me. 'woah! what the fuck' i exclaimed in a playful manner, explaining to the sober people in the room what did just happened. they all found it hilarious, and i went back into the living area with a grin on my face. this is where things began to get crazy. i have came to the conclusion that in the past, i would only taken crappy tabs, and the tabs i got that night were the first decent tabs of acid i would taken. i would obviously felt the effects of acid with the other tabs i have taken, the confusion, visuals, etc, etc. but never as intensely as i did this night. the first thing i noticed that began to trigger my bad trip was that i was unable to properly watch the television, in the past, i would be able to get a general idea of what was going on, and i would somewhat understand the premise of the show i was watching. this time however, because i saw an actor from 'friends' the tv show, i was continuously thinking we were watching friends, even though we were not. the few people left in the living area had to keep explaining to me that we were not watching friends, they found it funny that i continued to forget everything that was happening on the tv, and that i could not even keep ahold of what we were watching. i laughed along with them, but in the back of my mind i began to think 'this has never happened to me before on acid, is this acid? have i been given something else? ' the main reason for me beginning to think this was probably due to the fact i would never bought off this dealer before, i did not even know her, it was b's dealer - not mine. the next thing that happened that i would never experienced before was people's faces beginning to become distorted and stretch. everyone i looked at had huge eyes, and i mean huge. it was like their eye began somewhere around the middle of their forehead and ended at their cheekbone. this again, trigged the doubts that what i would taken was actually acid. all that was racing through my mind was these stories about people dying from 'acid clones', people having seizures, all that shit. my friend began to speak to me from across the room, i could not even work out what he was saying, i was just focusing on how flushed everyone is face looked, and how his eyebrow was slowly creeping down his face and twisting around his mouth as he spoke. i did not want to tell anyone how i was feeling because i would been bigging up acid for the past 4 months, constantly raving about how amazing it is and how i cannot wait to get more. i just sat in the armchair and tried to ride it out. i then received news that two of my friends were on the way, h and c. they would both never seen me on acid, and i was not sure how to handle being on a bad trip around them. they were both very bubbly and excitable people, especially when they were together, and out of literally everyone at that party, i was the closest with them both, so there was no escaping conversation, and i was dreading their loud personalities while i was feeling like this. there was no escaping conversation, and i was dreading their loud personalities while i was feeling like this. b was tripping alongside me, but he was not saying much, he never really speaks, and he definitely would not tell someone if he was feeling bad, too. we kind of sat next to each other on the couch in the living area tripping utter balls, with 1,000 bad thoughts racing through both of our minds. i did not know it yet, but b was having a bad trip, too. it was b's first time trying acid, having only tried n-bombe in the past, and it was my responsibility to look out for him in case this happened, i would never foreseen that i would have a bad trip too. as i sat beside him, i simply turned to him and said 'this is strong as fuck acid, i have never had anything like this in my life. ' i did not want to trip him out, so i said acid, but i used the word loosely. he just turned to me and laughed a little bit and said 'yes. ' - i could tell he was feeling the extremely intense effects of the acid just from his quiet response. i did not know if it was just the acid, but he did not look himself. i tried to disregard this, as all it was doing was adding to my paranoia, so i simply began to look around the room. this did not help. i looked at the floor, and saw that it looked as if i was at the bottom of a hill, the floor, and the furniture on the floor all looked like they were on a slant. it was like the floor was tilted upwards ever so slightly, and the room also had this new 'aura' about it, it is hard to explain. i decided to turn my focus to the tv, as the tilting was again something i have not experienced before on acid so it began to trip me out even more, almost everything i looked at seemed to contribute to what was about to become the worst trip of my life. for a few hours,the acid got progressively stronger, and stronger. at this point, i was unable to even comprehend what was happening on the tv show i was watching, i was utterly and totally confused. suddenly, the tv screen appeared to 'pop out' from the actual tv set itself, it was as if the screen was hovering just in front of the tv set. something then came on the tv with a fairground ride or something, i do not know, i cannot really remember. but either way, it began flashing an array of different colours, and amazingly, whatever colour was displayed on the tv was mirrored across the entire room, the tv flashed orange, the entire room was orange for a split second, it turned green, so did the room. at the time, i did not find this enjoyable at all, and knowing that my two friends, h and c were on the way, i decided to head upstairs. i stumbled through the narrow corridor after making my way upstairs and looked for an empty room. i peeped my head around a corner and found an empty room with a double bed. i slowly entered the room and perched myself on the end of the bed, one thing i noticed is that the bedside table that should have been to the left of me beside my knee was now somehow completely stretched out and covered the entire left field of my vision. it was like everything i was not focused on was stretched towards the centre of my vision, and i hated it. it was not long before someone noticed i was missing, and the people who happened to find me were h and c. for some reason, i thought they were going to purposely make my trip worse if i told them about it, so i kept silent and nodded along while they spoke to me. they both came and joined me in the room i was in and began to have their own little conversation about random shit, they knew i was on acid and just presumed i was zoning out happily in my own world, so they left me to it for a while. i was then pulled into the conversation when i heard them mention pills, c said something along the lines of 'i cannot wait for d to get back with these pills though, then i will be buzzing like you j haha! ' i then stared at him blankly, to which he said 'are you enjoying it, bro? ' i paused for a few moments, and decided i had to tell someone, heck, my girlfriend was at that party somewhere and i had been avoiding her, i did not even want to tell her. c is someone who knew his shit about drugs, in-fact, he is the one that introduced me to the stronger drugs, other than weed. so i worked up the courage to say 'no. ' i told him and h that i thought i was having a bad trip, and luckily their moods changed in an instant. they both suddenly went into serious mode, which panicked me even more, because in my confused state of mind i was still convincing myself i was on something other than acid and was going to die. this is moment where i remember thinking 'i am going to die. ' i honestly thought i was either going to end up dead, or i was stuck this way for the rest of my life. h grabbed me a glass of water and they both began to comfort me as i slowly sipped the water, this made me feel a little better, but i was still utterly fucked, and worst part of the trip had not even happened yet. for some reason, i felt like i needed to leave the room, i do not know what it was, i just felt trapped where i was, like the walls were caving in on me or something, i do not know. i stood up from my position and instantly felt kind of sick. i felt as if i was extremely tall and was hunched over the ceiling, looking down at the entire room from where i was stood, it was an extremely strange sensation and it made it extremely hard to find my footing and walk. i was helped through the hallway, and by this point the party was in full-swing, i could hear music blasting and everyone having a great time downstairs. 'why did not i just get an e? ' i remember asking myself. as i sat down in the next room, the trip began to intensify further. i literally began to forget things about myself, i remember forgetting who i was, what my mother looked like, where i lived, what the outside of the house i was in looked like, everything. i also kept seeing my face for split seconds as i looked around, and i looked terrified. i was terrified, i thought i was stuck the way i was forever, or going to die, and i could not remember anything at all, i could barely remember who my friends even were. and to be honest, i did not even know what a friend was. i remember c telling me, 'it is just the acid, it is just the acid' as i was panicking and i was processing what he was saying, but i did not know what it meant. i tried to remember what acid was, and i knew it was a drug, but i did not know what a drug was. it was so strange, my brain was still making links between words, but it was like the words had no meaning. my brain was still making links between words, but it was like the words had no meaning. while all this was going on b was downstairs on his own, he was having the same trip as me but he had nobody to help him through it as h and c were not allowing the countless people that were trying to check on my well-being into the room. that included b, they did not know he was having a bad trip, and the first few times he tried to come into the room, he would not tell them, either. eventually though, i heard his voice say 'i am feeling like j's feeling! ' and instantly linked it to his face, i do not know, it was weird. it was as if i was connected to him in some way because we were both on acid. 'let him in, let him in! ' i remember saying, h and c obviously obliged and allowed him to come into the room. he was shaking, like i was and he instantly lead on the bed, sweating and breathing shakily just like myself. i remained in the room in my terrified state for the next few hours, other than when i occasionally said i wanted to go outside because i was feeling really trapped, but then realised it was no better than being inside and that i felt more secure indoors anyway. eventually, i remember zoning out on my friends bed, and i began to come around a bit. loads of people were constantly coming into the room to make sure i was alright, and it was making me feel alot better to know people knew about my trip and they actually cared. a large portion of them caring was probably due to the fact that 90% of them were on e at the time, but nonetheless, it still made me feel good. one of my friends were in the room speaking to another of my friends, and i remember slowly beginning to understand what he was saying. i remember him mentioning facebook, and i instantly recognised what facebook was. i then told my friend to keep talking about normal shit, and he did, it all came slowly flooding back to me, i was able to register what he was saying, and could give him a well structured and understandable reply. the sense of relief that blew over me at that point was almost undescribable, it was as if i would been put on trial for murder and i would been proven not guilty. because i was still under the influence of the acid, it literally felt as if a huge weight had just been lifted off my shoulders. my friend who i mentioned earlier, h, went to the shops and bought me my favourite drink, and i sat on the end of the bed listening to people speak as i sipped. many people say they have meaningful experiences on acid, and i can honestly say this was a meaningful experience. i felt as if i would been in some dreadful accident, and had lost the ability to do anything, and as people were helping me, it made me feel as if they were somehow bringing me 'back to life' like i would been reborn anew. i cannot really describe it, nonetheless, it felt kind of spiritual, and i do not normally follow any of that stuff. the rest of the night, i felt really good, simply because i was not having a bad trip anymore. b came around at around the same time as me, for those of you who are wondering. the rest of the night was kind of a blur. i just remember walking around being really happy because i was back to 'normal' well as normal as you can be when you are tripping on acid. the fact was, i was not terrified, i did not think i was going to die anymore, and i could walk around and do normal shit again. i even ended up taking an e that night, i did not really feel it however, i just had some minor jaw clenching. the acid was overpowering the e, as i only really wanted to take a half due to the nights events. later on in the night, however, i smoked some weed, i must have had around 4 joints. and let me tell you, it was not a good idea. i began to feel trapped again, and the floor began to look tilted and strange. everything began to look really trippy again, nobody's face was morphing or anything like that, but nothing looked normal, and my sense of perception was beginning to die out again. despite the fact i was not forgetting anything and i could still do normal stuff, i still began to freak out a little. just the visuals alone were enough to remind me of the trip i would had not even 4 hours before. b smoked some weed too, and he felt the same way as i did. this time, there was nobody around to help us, it was around 6 am at this point, and nobody was really awake. so me and b decided to take a walk to help clear our heads, it helped, to some extent. but the thought of going inside was still horrible, and we felt as if we were walking on a treadmill the whole time. every time we looped around our area and got back to the house, we both decided to keep walking - we must have walked past the same group of people at least 4 times. eventually, we decided to go inside. i went upstairs with my girlfriend, and b was left alone downstairs. we were both still tripping out. i tried to lay down in bed, but it was horrible, the room looked even more titled and i could not concentrate on trying to sleep because my mind was still racing. i hung my head out the window for a best part of an hour, as i did not feel as-trapped with my head outside the window. i simply stared around whilst b was below me in the back garden chain smoking cigarettes. i did not even have to say anything to him, i knew exactly why he was still outside at 7am and how he was feeling. eventually, i managed to get to sleep. i slept from about 8am to 6pm, and walked home. i had some minor comedown effects, but my guess is that the mdma contributed greatly towards that. i just kind of felt strange on the way home. but i was still on a really good vibe because of how grateful i was to have escaped that trip and be totally back to normal again. that is all. i would like to apologise for not having many references to time in this report, it is simply because i honestly had no idea what time it was pretty much the entire night. i did not have my phone on me, and the first time i looked at the clock and was able to process what it said was around 5am. the bad trip all in all lasted about 3 - 4 hours. but it felt like much, much longer. it felt like an eternity. this experience took place 4 months ago, and i have not touched acid since. to be honest, i do not know if i ever will. if i did, i would do it in a controlled environment this time, not a house party. and i would definitely only take half a tab. as you may be able to tell, i am not a very experienced psychedelic user, i normally stick to things like mdma or weed - for this exact reason.\""
      ]
     },
     "execution_count": 6,
     "metadata": {},
     "output_type": "execute_result"
    }
   ],
   "source": [
    "df['report_text'][5]"
   ]
  },
  {
   "cell_type": "code",
   "execution_count": 7,
   "id": "043185af",
   "metadata": {},
   "outputs": [
    {
     "data": {
      "text/plain": [
       "\"and my friend, grown bored of marijuana and cheap booze, had decided that we wanted to try something different. a more involved/complex headchange. something a tad bit more interesting. i had not known much about acid at the time except that it was expensive and very hard to find and it had really never crossed my mind to take it. my friend who i mentioned before had told me that he had taken acid before and that it would be almost exactly what we were looking for in terms of a 'different' high. i spent at least a month asking around and finally got ahold of somebody who knew what they were talking about. i ordered a day in advance and recieved 2 tabs. for the price i had paid, i told myself the inevitable 'it better be good'. the next day after school, i went to g's house at about 4 of clock. we had planned to trip for the rest of the day/night. i unveiled the tabs under g's blacklight and they glowed a brilliant blue. he had previously informed me that what i bought might not have been acid, and the only concrete test was a blacklight. after g. saw the glow he looked at me with a big grin and said 'good, good. ' this is when i got excited. we popped the tabs on our toungues and just fucked around for a while. let us say a good 20 minutes. at exactly 4:24 the tabs had fully dissolved in our mouths. acid takes about an hour or so to take effect, so we decided to go for a walk. we hiked up our favorite trail that led to a mountain overlooking the entire city. we spent about 45-50 minutes talking and looking at the city. we had grown weary of what was ahead of us when we both started feeling an incredible body high. g. then decided that we were next, headed for the crevasse in the mountain. then a great euphoria had set in to both of us. it was very hard to walk when we felt so tense and high, so we decided to sit down in the dirt. the trip. it began when i saw/heard g. listening to his i pod. i looked at with with great amazement. it was a glowing/shining silver. the edges were fuzzy and had a blue aura. i had wondered where my mind had been the whole time he was listening to it. i realized i had been grinding my hand into the dirt because the sensation felt so incredibly nice on my skin. i looked at g. and i asked him how long it had been since we sat down. i was stunned when i found out it had been 3 minutes. i was absolutely perplexed. i looked at everything around me and it was all moving or alive. the sky had turned purple and the mountains around me all had blue auras. started dancing to the music and i could see black trails coming off of him. the music was incredible. i could feel it vicserally. the pumping bass, the bright treble, the pounding of the drums. it was all so vivid. i must have been playing with dirt and listening to/watching g. with his i pod for at least an hour, but again, i was reminded that we had only spent a total of 10 minutes in the crevasse. told me that it distorts your sense of time, so when i found this out, that is when i realized my trip had fully kicked in. i was excited, amazingly happy, and euphoric. also, according to g. my visuals had just begun. we then decided we were going to do what we always do in times of celebration. get drunk. we headed home in search of booze. for some reason, the walk home was the most astonishing thing to us. we had so much fun playing with dirt, throwing rocks, talking to cactai, and observing each others trails that we had a hard time walking a hundred feet to the house. finally, upon our arrival we opened the gate and walked into the driveway. remembering that i had stashed a fifth of cheap liqueor in g. s camper, i walked over to it opened the door, turned the light on and to g's amazement, produced from under a blanket a brilliant yellow bottle of coffee schnapps. we had never been happier. we shut the door, sat down and listened to the dead kennedys for about an hour. talking, having fun and sipping shitty booze. 2-3 hours into the trip, the visuals stopped. it was almost immediate when i realized it too. no more fancy trails, no more auras or patterns. it had also gotten completely dark. upon this revelation i had slipped into a depression. i was mad that my visuals were not working, we were out of booze, punk music sucks, and that it had become night. felt exactly the same. the mindfuck. after realizing how mad we both were, we laughed. we laughed that we paid 15 dollars a hit and supposedly gotten bad acid. we tried to both be mad, but we were so happy and euphoric that we just ended up talking four hours, and could not find it in us to be angry. we walked inside the house and decided to call it a night. just when i thought the trip was over, the mental portion really started to kick in. we spent literally five hours in front of the computer. pointless websites, random people/things, just telling each other the reasons for them. we talked about our philosophies of the world and where we stood on religion, politics, and basically summed up life in a nutshell. even if we thought so, there was no way we were anywhere near coming down. i had come to the realization that i am my own significant manifestation of spiritual energy in the universe, i am here for a reason, that i was created in god's image, by god, and that i have been entrusted with his powers to answer every question anybody could ever ask about anything. the scariest part about it was i was fully confident in my abilities to do so. i wondered about things i have always wondered about, and really asked g. and myself what i thought about them. this process repeated over and over again resulting in what i thought was absolute spiritual enlightenment. during all the spiritual stuff and crap, g's parents came home without us even knowing, made dinner and asked us if we wanted to eat. we were both starved, so we exclaimed yes and proceeded to the dining room. for some reason i found that communicating was about the hardest thing somebody could put me up to at the time. g's mom: 'hey ___. how are you doing? 'me: 'ummm. fantastic! ' *loses control of vocal volume/tone*g's mom: 'that is good' *stares at me like i am a fucking creep*g. realized my dillemma, grabbed the food, and took me back to the room. g. had come down almost fully, while i was still semi-tripping, and detached from the world. i ate my dinner and it tasted fabulous. i could feel it reenergizing my body and permiating my entire mouth and nasal passages with the most intense flavor i had ever tasted. although it was a small portion and i had been extremely hungry all day, i was happy with one serving and felt completely full. coming down. i had come down soon after i had eaten. was sober again. enough to realize i was fairly buzzed from the schnapps we drank earlier. the strange part about it is i was very euphoric and stoned for the rest of the night. my trip had ended but i felt that way for the next thirteen hours. we watched tv for a few hours and talked. reflecting on the trip, and the month we spent getting the acid. we were happy we would finally done it, that we would come down okay and had a good trip. we called it a night and went to bed. i woke up the next day perfectly fine, un-stoned, and alert. i actually felt great. like, a rejuvinated kind of feeling. overall. i say lsd is an incredible experience. life-changing. very potent, wonderful effects, and yes, i will do it again. prob'ly with a higher dosage next time though. i wanted better/more visuals than what i had gotten.\""
      ]
     },
     "execution_count": 7,
     "metadata": {},
     "output_type": "execute_result"
    }
   ],
   "source": [
    "df['report_text'][10]"
   ]
  },
  {
   "cell_type": "code",
   "execution_count": 8,
   "id": "fe5458dd",
   "metadata": {},
   "outputs": [],
   "source": [
    "def fix_common_mojibake(text):\n",
    "    if not isinstance(text, str):\n",
    "        return text\n",
    "\n",
    "    replacements = {\n",
    "        'â€™': \"'\",\n",
    "        'â€œ': '\"',\n",
    "        'â€': '\"',\n",
    "        'â€“': '-', \n",
    "        'â€”': '-', \n",
    "        'â€¦': '...', \n",
    "        'Ã©': 'é',\n",
    "        'Ã¨': 'è',\n",
    "        'Ã¢': 'â',\n",
    "        'Ãª': 'ê',\n",
    "        'Ã´': 'ô',\n",
    "        'Ã': 'à',\n",
    "        'Â': '',  # sometimes appears before currency symbols\n",
    "    }\n",
    "\n",
    "    for wrong, right in replacements.items():\n",
    "        text = text.replace(wrong, right)\n",
    "\n",
    "    return text\n",
    "\n",
    "df['report_text'] = df['report_text'].apply(fix_common_mojibake)"
   ]
  },
  {
   "cell_type": "code",
   "execution_count": 9,
   "id": "ee585be7",
   "metadata": {},
   "outputs": [],
   "source": [
    "import re\n",
    "\n",
    "def fix_leading_contractions_lower(text):\n",
    "    if pd.isna(text):\n",
    "        return \"\"\n",
    "\n",
    "    # Beginning of text\n",
    "    text = re.sub(r\"^['‘’]m\\b\", \"i am\", text)\n",
    "    text = re.sub(r\"^['‘’]ve\\b\", \"i have\", text)\n",
    "    text = re.sub(r\"^['‘’]d\\b\", \"i would\", text)\n",
    "    text = re.sub(r\"^['‘’]ll\\b\", \"i will\", text)\n",
    "\n",
    "    return text\n",
    "\n",
    "df['report_text'] = df['report_text'].apply(fix_leading_contractions_lower)"
   ]
  },
  {
   "cell_type": "code",
   "execution_count": 10,
   "id": "0e1f12d7",
   "metadata": {},
   "outputs": [
    {
     "data": {
      "text/plain": [
       "\"and my friend, grown bored of marijuana and cheap booze, had decided that we wanted to try something different. a more involved/complex headchange. something a tad bit more interesting. i had not known much about acid at the time except that it was expensive and very hard to find and it had really never crossed my mind to take it. my friend who i mentioned before had told me that he had taken acid before and that it would be almost exactly what we were looking for in terms of a 'different' high. i spent at least a month asking around and finally got ahold of somebody who knew what they were talking about. i ordered a day in advance and recieved 2 tabs. for the price i had paid, i told myself the inevitable 'it better be good'. the next day after school, i went to g's house at about 4 of clock. we had planned to trip for the rest of the day/night. i unveiled the tabs under g's blacklight and they glowed a brilliant blue. he had previously informed me that what i bought might not have been acid, and the only concrete test was a blacklight. after g. saw the glow he looked at me with a big grin and said 'good, good. ' this is when i got excited. we popped the tabs on our toungues and just fucked around for a while. let us say a good 20 minutes. at exactly 4:24 the tabs had fully dissolved in our mouths. acid takes about an hour or so to take effect, so we decided to go for a walk. we hiked up our favorite trail that led to a mountain overlooking the entire city. we spent about 45-50 minutes talking and looking at the city. we had grown weary of what was ahead of us when we both started feeling an incredible body high. g. then decided that we were next, headed for the crevasse in the mountain. then a great euphoria had set in to both of us. it was very hard to walk when we felt so tense and high, so we decided to sit down in the dirt. the trip. it began when i saw/heard g. listening to his i pod. i looked at with with great amazement. it was a glowing/shining silver. the edges were fuzzy and had a blue aura. i had wondered where my mind had been the whole time he was listening to it. i realized i had been grinding my hand into the dirt because the sensation felt so incredibly nice on my skin. i looked at g. and i asked him how long it had been since we sat down. i was stunned when i found out it had been 3 minutes. i was absolutely perplexed. i looked at everything around me and it was all moving or alive. the sky had turned purple and the mountains around me all had blue auras. started dancing to the music and i could see black trails coming off of him. the music was incredible. i could feel it vicserally. the pumping bass, the bright treble, the pounding of the drums. it was all so vivid. i must have been playing with dirt and listening to/watching g. with his i pod for at least an hour, but again, i was reminded that we had only spent a total of 10 minutes in the crevasse. told me that it distorts your sense of time, so when i found this out, that is when i realized my trip had fully kicked in. i was excited, amazingly happy, and euphoric. also, according to g. my visuals had just begun. we then decided we were going to do what we always do in times of celebration. get drunk. we headed home in search of booze. for some reason, the walk home was the most astonishing thing to us. we had so much fun playing with dirt, throwing rocks, talking to cactai, and observing each others trails that we had a hard time walking a hundred feet to the house. finally, upon our arrival we opened the gate and walked into the driveway. remembering that i had stashed a fifth of cheap liqueor in g. s camper, i walked over to it opened the door, turned the light on and to g's amazement, produced from under a blanket a brilliant yellow bottle of coffee schnapps. we had never been happier. we shut the door, sat down and listened to the dead kennedys for about an hour. talking, having fun and sipping shitty booze. 2-3 hours into the trip, the visuals stopped. it was almost immediate when i realized it too. no more fancy trails, no more auras or patterns. it had also gotten completely dark. upon this revelation i had slipped into a depression. i was mad that my visuals were not working, we were out of booze, punk music sucks, and that it had become night. felt exactly the same. the mindfuck. after realizing how mad we both were, we laughed. we laughed that we paid 15 dollars a hit and supposedly gotten bad acid. we tried to both be mad, but we were so happy and euphoric that we just ended up talking four hours, and could not find it in us to be angry. we walked inside the house and decided to call it a night. just when i thought the trip was over, the mental portion really started to kick in. we spent literally five hours in front of the computer. pointless websites, random people/things, just telling each other the reasons for them. we talked about our philosophies of the world and where we stood on religion, politics, and basically summed up life in a nutshell. even if we thought so, there was no way we were anywhere near coming down. i had come to the realization that i am my own significant manifestation of spiritual energy in the universe, i am here for a reason, that i was created in god's image, by god, and that i have been entrusted with his powers to answer every question anybody could ever ask about anything. the scariest part about it was i was fully confident in my abilities to do so. i wondered about things i have always wondered about, and really asked g. and myself what i thought about them. this process repeated over and over again resulting in what i thought was absolute spiritual enlightenment. during all the spiritual stuff and crap, g's parents came home without us even knowing, made dinner and asked us if we wanted to eat. we were both starved, so we exclaimed yes and proceeded to the dining room. for some reason i found that communicating was about the hardest thing somebody could put me up to at the time. g's mom: 'hey ___. how are you doing? 'me: 'ummm. fantastic! ' *loses control of vocal volume/tone*g's mom: 'that is good' *stares at me like i am a fucking creep*g. realized my dillemma, grabbed the food, and took me back to the room. g. had come down almost fully, while i was still semi-tripping, and detached from the world. i ate my dinner and it tasted fabulous. i could feel it reenergizing my body and permiating my entire mouth and nasal passages with the most intense flavor i had ever tasted. although it was a small portion and i had been extremely hungry all day, i was happy with one serving and felt completely full. coming down. i had come down soon after i had eaten. was sober again. enough to realize i was fairly buzzed from the schnapps we drank earlier. the strange part about it is i was very euphoric and stoned for the rest of the night. my trip had ended but i felt that way for the next thirteen hours. we watched tv for a few hours and talked. reflecting on the trip, and the month we spent getting the acid. we were happy we would finally done it, that we would come down okay and had a good trip. we called it a night and went to bed. i woke up the next day perfectly fine, un-stoned, and alert. i actually felt great. like, a rejuvinated kind of feeling. overall. i say lsd is an incredible experience. life-changing. very potent, wonderful effects, and yes, i will do it again. prob'ly with a higher dosage next time though. i wanted better/more visuals than what i had gotten.\""
      ]
     },
     "execution_count": 10,
     "metadata": {},
     "output_type": "execute_result"
    }
   ],
   "source": [
    "df['report_text'][10]"
   ]
  },
  {
   "cell_type": "code",
   "execution_count": 11,
   "id": "f8934f40",
   "metadata": {},
   "outputs": [],
   "source": [
    "# Define a word count function\n",
    "def count_words(text):\n",
    "    if pd.isna(text):\n",
    "        return 0\n",
    "    return len(str(text).split())\n",
    "\n",
    "# Apply word count to each report\n",
    "df['word_count'] = df['report_text'].apply(count_words)"
   ]
  },
  {
   "cell_type": "code",
   "execution_count": 12,
   "id": "ad3bb61d",
   "metadata": {},
   "outputs": [
    {
     "name": "stdout",
     "output_type": "stream",
     "text": [
      "Reports with fewer than 500 words: 102\n",
      "Reports with more than 2500 words: 74\n"
     ]
    }
   ],
   "source": [
    "# Count reports <500 and >2500 words\n",
    "less_than_500 = (df['word_count'] < 500).sum()\n",
    "greater_than_2000 = (df['word_count'] > 2500).sum()\n",
    "\n",
    "print(f\"Reports with fewer than 500 words: {less_than_500}\")\n",
    "print(f\"Reports with more than 2500 words: {greater_than_2000}\")"
   ]
  },
  {
   "cell_type": "code",
   "execution_count": 13,
   "id": "edd3ad31",
   "metadata": {},
   "outputs": [
    {
     "data": {
      "text/html": [
       "<div>\n",
       "<style scoped>\n",
       "    .dataframe tbody tr th:only-of-type {\n",
       "        vertical-align: middle;\n",
       "    }\n",
       "\n",
       "    .dataframe tbody tr th {\n",
       "        vertical-align: top;\n",
       "    }\n",
       "\n",
       "    .dataframe thead th {\n",
       "        text-align: right;\n",
       "    }\n",
       "</style>\n",
       "<table border=\"1\" class=\"dataframe\">\n",
       "  <thead>\n",
       "    <tr style=\"text-align: right;\">\n",
       "      <th></th>\n",
       "      <th>title</th>\n",
       "      <th>substance</th>\n",
       "      <th>age</th>\n",
       "      <th>weight</th>\n",
       "      <th>gender</th>\n",
       "      <th>report_text</th>\n",
       "      <th>word_count</th>\n",
       "    </tr>\n",
       "  </thead>\n",
       "  <tbody>\n",
       "    <tr>\n",
       "      <th>0</th>\n",
       "      <td>Tribute to My Shaman</td>\n",
       "      <td>LSD</td>\n",
       "      <td>24</td>\n",
       "      <td>79.0</td>\n",
       "      <td>Male</td>\n",
       "      <td>a year ago a very good friend of a friend intr...</td>\n",
       "      <td>1962</td>\n",
       "    </tr>\n",
       "    <tr>\n",
       "      <th>1</th>\n",
       "      <td>Amazing: Not A Good Enough Word</td>\n",
       "      <td>LSD</td>\n",
       "      <td>19</td>\n",
       "      <td>61.0</td>\n",
       "      <td>Male</td>\n",
       "      <td>for a while i have had a sort of “to do” list ...</td>\n",
       "      <td>2263</td>\n",
       "    </tr>\n",
       "    <tr>\n",
       "      <th>2</th>\n",
       "      <td>Leaping Off the Edge of Forever</td>\n",
       "      <td>LSD</td>\n",
       "      <td>Not Given</td>\n",
       "      <td>75.0</td>\n",
       "      <td>Male</td>\n",
       "      <td>info: heavily experienced psychonaut at the ag...</td>\n",
       "      <td>1974</td>\n",
       "    </tr>\n",
       "    <tr>\n",
       "      <th>3</th>\n",
       "      <td>A Psychedelic Way of Life</td>\n",
       "      <td>LSD</td>\n",
       "      <td>Not Given</td>\n",
       "      <td>61.0</td>\n",
       "      <td>Male</td>\n",
       "      <td>long ago i was handed a couple of sugar cubes ...</td>\n",
       "      <td>262</td>\n",
       "    </tr>\n",
       "    <tr>\n",
       "      <th>4</th>\n",
       "      <td>Took Lower Doses of Each</td>\n",
       "      <td>LSD</td>\n",
       "      <td>30</td>\n",
       "      <td>90.0</td>\n",
       "      <td>Male</td>\n",
       "      <td>time candyflipping i'll try to be a bit more t...</td>\n",
       "      <td>1914</td>\n",
       "    </tr>\n",
       "  </tbody>\n",
       "</table>\n",
       "</div>"
      ],
      "text/plain": [
       "                             title substance        age  weight gender  \\\n",
       "0             Tribute to My Shaman       LSD         24    79.0   Male   \n",
       "1  Amazing: Not A Good Enough Word       LSD         19    61.0   Male   \n",
       "2  Leaping Off the Edge of Forever       LSD  Not Given    75.0   Male   \n",
       "3        A Psychedelic Way of Life       LSD  Not Given    61.0   Male   \n",
       "4         Took Lower Doses of Each       LSD         30    90.0   Male   \n",
       "\n",
       "                                         report_text  word_count  \n",
       "0  a year ago a very good friend of a friend intr...        1962  \n",
       "1  for a while i have had a sort of “to do” list ...        2263  \n",
       "2  info: heavily experienced psychonaut at the ag...        1974  \n",
       "3  long ago i was handed a couple of sugar cubes ...         262  \n",
       "4  time candyflipping i'll try to be a bit more t...        1914  "
      ]
     },
     "execution_count": 13,
     "metadata": {},
     "output_type": "execute_result"
    }
   ],
   "source": [
    "df.head()"
   ]
  },
  {
   "cell_type": "code",
   "execution_count": 14,
   "id": "15780eea",
   "metadata": {},
   "outputs": [
    {
     "data": {
      "image/png": "[encoded data removed]",
      "text/plain": [
       "<Figure size 1000x600 with 1 Axes>"
      ]
     },
     "metadata": {},
     "output_type": "display_data"
    }
   ],
   "source": [
    "import matplotlib.pyplot as plt\n",
    "\n",
    "# Plot histogram of word counts\n",
    "plt.figure(figsize=(10, 6))\n",
    "plt.hist(df['word_count'], bins=50, color='skyblue', edgecolor='black')\n",
    "plt.title('Distribution of Report Word Counts')\n",
    "plt.xlabel('Word Count')\n",
    "plt.ylabel('Number of Reports')\n",
    "plt.grid(True)\n",
    "plt.tight_layout()\n",
    "plt.show()"
   ]
  },
  {
   "cell_type": "code",
   "execution_count": 15,
   "id": "8d34932b",
   "metadata": {},
   "outputs": [
    {
     "data": {
      "text/plain": [
       "(1013, 7)"
      ]
     },
     "execution_count": 15,
     "metadata": {},
     "output_type": "execute_result"
    }
   ],
   "source": [
    "df.shape"
   ]
  },
  {
   "cell_type": "markdown",
   "id": "5069a4ca",
   "metadata": {},
   "source": [
    "864 within 500 to 2500, we will take 800"
   ]
  },
  {
   "cell_type": "code",
   "execution_count": 16,
   "id": "9dd4ce28",
   "metadata": {},
   "outputs": [
    {
     "name": "stdout",
     "output_type": "stream",
     "text": [
      "Reports with fewer than 700 words: 216\n",
      "Reports with fewer than 800 words: 289\n"
     ]
    }
   ],
   "source": [
    "# Count reports with fewer than 700 and 800 words\n",
    "less_than_700 = (df['word_count'] < 700).sum()\n",
    "less_than_800 = (df['word_count'] < 800).sum()\n",
    "\n",
    "print(f\"Reports with fewer than 700 words: {less_than_700}\")\n",
    "print(f\"Reports with fewer than 800 words: {less_than_800}\")"
   ]
  },
  {
   "cell_type": "code",
   "execution_count": 17,
   "id": "8c191664",
   "metadata": {},
   "outputs": [
    {
     "name": "stdout",
     "output_type": "stream",
     "text": [
      "Filtered 837 reports, saved 800 to 'final_800_reports.csv'\n"
     ]
    }
   ],
   "source": [
    "# Step 1: Filter reports between 500 and 2500 words\n",
    "filtered_df = df[(df['word_count'] > 500) & (df['word_count'] < 2500)]\n",
    "\n",
    "# Step 2: Randomly sample 800 reports from the filtered DataFrame\n",
    "sampled_df = filtered_df.sample(n=800, random_state=42)  # random_state ensures reproducibility\n",
    "\n",
    "# Step 3: Save to CSV\n",
    "sampled_df.to_csv(\"lsd_800_reports.csv\", index=False)\n",
    "\n",
    "print(f\"Filtered {len(filtered_df)} reports, saved 800 to 'lsd_800_reports.csv'\")"
   ]
  }
 ],
 "metadata": {
  "kernelspec": {
   "display_name": "Python 3 (ipykernel)",
   "language": "python",
   "name": "python3"
  },
  "language_info": {
   "codemirror_mode": {
    "name": "ipython",
    "version": 3
   },
   "file_extension": ".py",
   "mimetype": "text/x-python",
   "name": "python",
   "nbconvert_exporter": "python",
   "pygments_lexer": "ipython3",
   "version": "3.9.15"
  }
 },
 "nbformat": 4,
 "nbformat_minor": 5
}
